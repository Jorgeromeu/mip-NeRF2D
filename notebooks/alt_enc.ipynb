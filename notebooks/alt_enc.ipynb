{
 "cells": [
  {
   "cell_type": "code",
   "execution_count": 41,
   "id": "initial_id",
   "metadata": {
    "collapsed": true,
    "ExecuteTime": {
     "end_time": "2023-11-29T14:19:22.324458366Z",
     "start_time": "2023-11-29T14:19:22.309627410Z"
    }
   },
   "outputs": [
    {
     "name": "stdout",
     "output_type": "stream",
     "text": [
      "tensor([[ 0.8415,  0.0000,  0.0000,  0.8415,  0.9093,  0.0000,  0.0000,  0.9093,\n",
      "          0.5403,  1.0000,  1.0000,  0.5403, -0.4161,  1.0000,  1.0000, -0.4161]])\n",
      "tensor([1., 0., 0., 1.])\n"
     ]
    }
   ],
   "source": [
    "import numpy as np\n",
    "import torch\n",
    "\n",
    "from enc import PE\n",
    "from gaussian import Gaussian2D\n",
    "\n",
    "scale = 1\n",
    "mu = np.array([0, 0])\n",
    "g = Gaussian2D(0, np.array([1, 1]), mu)\n",
    "\n",
    "L = 12\n",
    "pe_L = PE(d_in=2, n_freqs=L)\n",
    "pe_2 = PE(d_in=4, n_freqs=2)\n",
    "\n",
    "def enc(g: Gaussian2D):\n",
    "    mu = torch.Tensor(g.position)\n",
    "    cov = torch.Tensor(g.covariance_matrix())\n",
    "    pos_enc = pe_L.encode(mu.unsqueeze(0), None)\n",
    "\n",
    "    cov_feature = torch.flatten(torch.triu(torch.sign(cov) * torch.sqrt(torch.abs(cov))))\n",
    "    cov_enc = pe_2.encode(cov_feature.unsqueeze(0), None)\n",
    "\n",
    "    print(torch.flatten(torch.triu(torch.sign(cov) * torch.sqrt(torch.abs(cov)))))\n",
    "\n",
    "    pass\n",
    "\n",
    "enc(g)"
   ]
  },
  {
   "cell_type": "code",
   "execution_count": 43,
   "outputs": [
    {
     "data": {
      "text/plain": "tensor([[[ 0.6674, -1.2123],\n         [ 0.1097,  0.5251]],\n\n        [[ 0.7709, -0.0238],\n         [ 0.2967, -0.0707]],\n\n        [[-0.3423,  1.2686],\n         [-0.3853,  1.0046]],\n\n        [[-0.6151,  0.5545],\n         [ 0.0457, -1.9108]],\n\n        [[-1.0738,  0.2839],\n         [-0.0073, -0.5824]],\n\n        [[-0.3374, -0.3696],\n         [ 0.3071,  0.5510]],\n\n        [[-0.8764,  0.0171],\n         [-0.1996, -0.4527]],\n\n        [[ 0.3128, -1.4930],\n         [ 0.6344,  0.2186]],\n\n        [[ 0.2904, -0.1286],\n         [ 0.6036, -0.5622]],\n\n        [[-0.5464, -0.2503],\n         [-0.2222,  0.5781]]])"
     },
     "execution_count": 43,
     "metadata": {},
     "output_type": "execute_result"
    }
   ],
   "source": [
    "covs = torch.randn(size=(10, 2, 2))\n",
    "covs"
   ],
   "metadata": {
    "collapsed": false,
    "ExecuteTime": {
     "end_time": "2023-11-29T14:21:57.764249003Z",
     "start_time": "2023-11-29T14:21:57.745303535Z"
    }
   },
   "id": "2d5f79eee8a13f2d"
  },
  {
   "cell_type": "code",
   "execution_count": 63,
   "outputs": [
    {
     "data": {
      "text/plain": "tensor([[ 0.8169, -1.1011,  0.0000,  0.7246],\n        [ 0.8780, -0.1541,  0.0000, -0.2658],\n        [-0.5851,  1.1263,  0.0000,  1.0023],\n        [-0.7843,  0.7446,  0.0000, -1.3823],\n        [-1.0362,  0.5328,  0.0000, -0.7632],\n        [-0.5809, -0.6080,  0.0000,  0.7423],\n        [-0.9362,  0.1308,  0.0000, -0.6728],\n        [ 0.5593, -1.2219,  0.0000,  0.4676],\n        [ 0.5389, -0.3587,  0.0000, -0.7498],\n        [-0.7392, -0.5003,  0.0000,  0.7603]])"
     },
     "execution_count": 63,
     "metadata": {},
     "output_type": "execute_result"
    }
   ],
   "source": [
    "torch.flatten(torch.triu(torch.sign(covs) * torch.sqrt(torch.abs(covs))), start_dim=1)\n"
   ],
   "metadata": {
    "collapsed": false,
    "ExecuteTime": {
     "end_time": "2023-11-29T14:24:57.019486252Z",
     "start_time": "2023-11-29T14:24:57.014183007Z"
    }
   },
   "id": "82bd57abc151b555"
  }
 ],
 "metadata": {
  "kernelspec": {
   "display_name": "Python 3",
   "language": "python",
   "name": "python3"
  },
  "language_info": {
   "codemirror_mode": {
    "name": "ipython",
    "version": 2
   },
   "file_extension": ".py",
   "mimetype": "text/x-python",
   "name": "python",
   "nbconvert_exporter": "python",
   "pygments_lexer": "ipython2",
   "version": "2.7.6"
  }
 },
 "nbformat": 4,
 "nbformat_minor": 5
}
