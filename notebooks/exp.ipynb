{
 "cells": [
  {
   "cell_type": "code",
   "execution_count": 9,
   "id": "e1c8e7f33b620a98",
   "metadata": {
    "collapsed": true
   },
   "outputs": [
    {
     "name": "stdout",
     "output_type": "stream",
     "text": [
      "The autoreload extension is already loaded. To reload it, use:\n",
      "  %reload_ext autoreload\n"
     ]
    }
   ],
   "source": [
    "%load_ext autoreload\n",
    "%autoreload 2\n",
    "\n",
    "import sys\n",
    "sys.path.append('..')\n",
    "\n",
    "from dataclasses import dataclass\n",
    "\n",
    "from torch import nn\n",
    "\n",
    "from pipeline.train import train_model, TrainingSettings\n",
    "from pipeline."
   ]
  },
  {
   "cell_type": "code",
   "execution_count": 10,
   "id": "initial_id",
   "metadata": {
    "collapsed": false
   },
   "outputs": [],
   "source": [
    "@dataclass\n",
    "class ExperimentModel:\n",
    "    # info about saved model\n",
    "    display_name: str\n",
    "    artifact_name: str\n",
    "\n",
    "    model: nn.Module\n",
    "    encoding: nn.Module\n",
    "    training_set_artifact: str\n",
    "\n",
    "    def train(self, train_settings: TrainingSettings, group_name=None):\n",
    "        train_model(self.model,\n",
    "                    self.encoding,\n",
    "                    self.training_set_artifact,\n",
    "                    self.artifact_name,\n",
    "                    train_settings,\n",
    "                    run_name=f'train-{self.display_name}',\n",
    "                    group_name=group_name)\n"
   ]
  },
  {
   "cell_type": "code",
   "execution_count": 11,
   "id": "bf66e1c254eba2f2",
   "metadata": {
    "collapsed": false
   },
   "outputs": [],
   "source": [
    "from model import MLP\n",
    "from enc import PE, IPE\n",
    "\n",
    "pe = PE(d_in=2, n_freqs=10)\n",
    "ipe = IPE(d_in=2, n_freqs=10)\n",
    "model = MLP(pe.d_output, n_hidden=4, hidden_size=256)\n",
    "\n",
    "models = [\n",
    "    ExperimentModel('IPE-multi', 'ipe-multi-test', model, ipe, 'collins-multi-macro:latest')\n",
    "]"
   ]
  },
  {
   "cell_type": "code",
   "execution_count": null,
   "id": "e127f47677f4cdf4",
   "metadata": {
    "collapsed": false,
    "is_executing": true
   },
   "outputs": [],
   "source": [
    "retrain = True\n",
    "\n",
    "train_settings = TrainingSettings()\n",
    "train_settings.batch_size = 2000\n",
    "train_settings.n_epochs = 20\n",
    "train_settings.lr = 0.002\n",
    "train_settings.batch_size = 2000\n",
    "train_settings.n_samples = 100000\n",
    "\n",
    "if retrain:\n",
    "    \n",
    "    for model in models:\n",
    "        model.train(train_settings)"
   ]
  },
  {
   "cell_type": "code",
   "execution_count": null,
   "id": "ceaf62db31821a95",
   "metadata": {
    "collapsed": false
   },
   "outputs": [],
   "source": [
    "evaluate_model_multiscale()"
   ]
  },
  {
   "cell_type": "code",
   "execution_count": null,
   "metadata": {},
   "outputs": [],
   "source": []
  }
 ],
 "metadata": {
  "kernelspec": {
   "display_name": "Python 3",
   "language": "python",
   "name": "python3"
  },
  "language_info": {
   "codemirror_mode": {
    "name": "ipython",
    "version": 3
   },
   "file_extension": ".py",
   "mimetype": "text/x-python",
   "name": "python",
   "nbconvert_exporter": "python",
   "pygments_lexer": "ipython3",
   "version": "3.11.6"
  }
 },
 "nbformat": 4,
 "nbformat_minor": 5
}
