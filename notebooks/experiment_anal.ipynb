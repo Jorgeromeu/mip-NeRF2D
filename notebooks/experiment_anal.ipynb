{
 "cells": [
  {
   "cell_type": "code",
   "execution_count": 12,
   "outputs": [],
   "source": [
    "import matplotlib.pyplot as plt\n",
    "import numpy as np\n",
    "\n",
    "import wandb\n",
    "from wandb_util import first_used_artifact_of_type"
   ],
   "metadata": {
    "collapsed": false,
    "ExecuteTime": {
     "end_time": "2023-11-28T23:13:18.593616681Z",
     "start_time": "2023-11-28T23:13:18.318201342Z"
    }
   },
   "id": "c189f44590708fc0"
  },
  {
   "cell_type": "code",
   "execution_count": 2,
   "outputs": [],
   "source": [
    "api = wandb.Api()\n",
    "\n",
    "runs = api.runs('romeu/mip-NeRF2D')\n",
    "runs = [r for r in runs if r.job_type == 'evaluation-render-multiscale']"
   ],
   "metadata": {
    "collapsed": false,
    "ExecuteTime": {
     "end_time": "2023-11-28T23:10:10.855738205Z",
     "start_time": "2023-11-28T23:09:55.465369616Z"
    }
   },
   "id": "a8e68fc0de857997"
  },
  {
   "cell_type": "code",
   "execution_count": 3,
   "outputs": [
    {
     "name": "stderr",
     "output_type": "stream",
     "text": [
      "100%|██████████| 20/20 [00:40<00:00,  2.01s/it]\n"
     ]
    }
   ],
   "source": [
    "from tqdm import tqdm\n",
    "from wandb.apis.public import Run\n",
    "from dataclasses import dataclass\n",
    "\n",
    "@dataclass\n",
    "class RunData:\n",
    "    run: Run\n",
    "    enc_type: str\n",
    "    dataset_name: str\n",
    "    res: int\n",
    "\n",
    "runs_data = []\n",
    "\n",
    "for r in tqdm(runs):\n",
    "    enc = r.config['encoding_settings']['type']\n",
    "    res = r.config['res']\n",
    "\n",
    "    model = first_used_artifact_of_type(r, 'model')\n",
    "    training_run = model.logged_by()\n",
    "    dataset_artifact = first_used_artifact_of_type(training_run, 'multiscale-dataset')\n",
    "\n",
    "    dataset_name, _ = dataset_artifact.name.split(':')\n",
    "\n",
    "    runs_data.append(RunData(r, enc, dataset_name, res))"
   ],
   "metadata": {
    "collapsed": false,
    "ExecuteTime": {
     "end_time": "2023-11-28T23:11:05.917758113Z",
     "start_time": "2023-11-28T23:10:25.774898495Z"
    }
   },
   "id": "efcd168576a9af20"
  },
  {
   "cell_type": "code",
   "execution_count": 41,
   "outputs": [
    {
     "name": "stderr",
     "output_type": "stream",
     "text": [
      "  5%|▌         | 1/20 [00:09<03:06,  9.83s/it]\u001B[34m\u001B[1mwandb\u001B[0m: \u001B[33mWARNING\u001B[0m A graphql request initiated by the public wandb API timed out (timeout=19 sec). Create a new API with an integer timeout larger than 19, e.g., `api = wandb.Api(timeout=29)` to increase the graphql timeout.\n",
      "100%|██████████| 20/20 [00:58<00:00,  2.93s/it]"
     ]
    },
    {
     "name": "stdout",
     "output_type": "stream",
     "text": [
      "defaultdict(<function <lambda> at 0x7fdba830ca40>, {512: {'IPE-collins-truemulti': 0.5922840237617493, 'PE-collins-truemulti': 0.5438748598098755, 'IPE-collins-single': 0.6809937357902527, 'PE-collins-single': 0.6544468402862549}, 256: {'IPE-collins-truemulti': 0.6388265490531921, 'PE-collins-truemulti': 0.5760606527328491, 'IPE-collins-single': 0.7530437111854553, 'PE-collins-single': 0.7308452129364014}, 128: {'IPE-collins-truemulti': 0.7595310211181641, 'PE-collins-truemulti': 0.6904370188713074, 'IPE-collins-single': 0.845942497253418, 'PE-collins-single': 0.824745774269104}, 64: {'IPE-collins-truemulti': 0.9219789505004883, 'PE-collins-truemulti': 0.8837976455688477, 'IPE-collins-single': 0.924728274345398, 'PE-collins-single': 0.9031389951705933}, 32: {'IPE-collins-truemulti': 0.9860647320747375, 'PE-collins-truemulti': 0.9777839779853821, 'IPE-collins-single': 0.9190403819084167, 'PE-collins-single': 0.8587838411331177}})\n"
     ]
    },
    {
     "name": "stderr",
     "output_type": "stream",
     "text": [
      "\n"
     ]
    }
   ],
   "source": [
    "from collections import defaultdict\n",
    "\n",
    "ssims_dict = defaultdict(lambda: {})\n",
    "\n",
    "for run in tqdm(runs_data):\n",
    "    ssims = run.run.history()['ssim']\n",
    "    max_ssim = np.max(ssims)\n",
    "\n",
    "    ssims_dict[run.res][f'{run.enc_type}-{run.dataset_name}'] = max_ssim\n",
    "\n",
    "print(ssims_dict)"
   ],
   "metadata": {
    "collapsed": false,
    "ExecuteTime": {
     "end_time": "2023-11-28T23:20:21.999201306Z",
     "start_time": "2023-11-28T23:19:23.267331916Z"
    }
   },
   "id": "99d3782805fec919"
  },
  {
   "cell_type": "code",
   "execution_count": 65,
   "outputs": [
    {
     "data": {
      "text/plain": "([<matplotlib.axis.XTick at 0x7fdba4bbbf90>,\n  <matplotlib.axis.XTick at 0x7fdba4bd94d0>,\n  <matplotlib.axis.XTick at 0x7fdba4b9e3d0>,\n  <matplotlib.axis.XTick at 0x7fdba4a0e310>,\n  <matplotlib.axis.XTick at 0x7fdba4a0ea90>],\n [Text(512, 0, '512'),\n  Text(256, 0, '256'),\n  Text(128, 0, '128'),\n  Text(64, 0, '64'),\n  Text(32, 0, '32')])"
     },
     "execution_count": 65,
     "metadata": {},
     "output_type": "execute_result"
    },
    {
     "data": {
      "text/plain": "<Figure size 640x480 with 1 Axes>",
      "image/png": "[encoded data removed]"
     },
     "metadata": {},
     "output_type": "display_data"
    }
   ],
   "source": [
    "resolutions = np.array(list(ssims_dict.keys()))\n",
    "\n",
    "pe_ssims_single = np.array([value['PE-collins-single'] for value in ssims_dict.values()])\n",
    "ipe_ssims_single = np.array([value['IPE-collins-single'] for value in ssims_dict.values()])\n",
    "\n",
    "pe_ssims_multi = np.array([value['PE-collins-truemulti'] for value in ssims_dict.values()])\n",
    "ipe_ssims_multi = np.array([value['IPE-collins-truemulti'] for value in ssims_dict.values()])\n",
    "\n",
    "diffs = ipe_ssims_multi - pe_ssims_multi\n",
    "\n",
    "plt.scatter(resolutions, pe_ssims_multi, color='blue')\n",
    "plt.scatter(resolutions, ipe_ssims_multi, color='blue', marker='.')\n",
    "\n",
    "plt.scatter(resolutions, pe_ssims_single, color='red')\n",
    "plt.scatter(resolutions, ipe_ssims_single, color='red', marker='.')\n",
    "\n",
    "plt.xticks(resolutions)"
   ],
   "metadata": {
    "collapsed": false,
    "ExecuteTime": {
     "end_time": "2023-11-28T23:26:15.103866741Z",
     "start_time": "2023-11-28T23:26:15.038658091Z"
    }
   },
   "id": "a0691d0e0108e6b1"
  }
 ],
 "metadata": {
  "kernelspec": {
   "display_name": "Python 3",
   "language": "python",
   "name": "python3"
  },
  "language_info": {
   "codemirror_mode": {
    "name": "ipython",
    "version": 2
   },
   "file_extension": ".py",
   "mimetype": "text/x-python",
   "name": "python",
   "nbconvert_exporter": "python",
   "pygments_lexer": "ipython2",
   "version": "2.7.6"
  }
 },
 "nbformat": 4,
 "nbformat_minor": 5
}
