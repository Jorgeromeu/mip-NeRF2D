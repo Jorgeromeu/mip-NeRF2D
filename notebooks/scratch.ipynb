{
 "cells": [
  {
   "cell_type": "code",
   "execution_count": 1,
   "outputs": [],
   "source": [
    "%load_ext autoreload\n",
    "%autoreload 2\n",
    "\n",
    "from experiment_util import default_training_settings\n",
    "from model import MLP\n",
    "from pipeline.train import train_model"
   ],
   "metadata": {
    "collapsed": false,
    "ExecuteTime": {
     "end_time": "2023-11-28T15:24:31.977740731Z",
     "start_time": "2023-11-28T15:24:29.242106807Z"
    }
   },
   "id": "4ab85655022e245f"
  },
  {
   "cell_type": "code",
   "execution_count": 2,
   "outputs": [],
   "source": [
    "from enc import IPE, PE\n",
    "from experiment_util import ExperimentModel\n",
    "\n",
    "dataset_multi = 'collins-truemulti'\n",
    "dataset_single = 'collins-single'\n",
    "\n",
    "ipe = IPE(d_in=2, n_freqs=20)\n",
    "pe_hd = PE(d_in=2, n_freqs=10)\n",
    "pe_ld = PE(d_in=2, n_freqs=4)\n",
    "\n",
    "models_experiment_single = [\n",
    "    ExperimentModel('IPE', 'ipe-exp', MLP(ipe.d_output), ipe, dataset_single),\n",
    "    ExperimentModel('PE-HD', 'pe-hd-exp', MLP(pe_hd.d_output), pe_hd, dataset_single),\n",
    "    ExperimentModel('PE-LD', 'pe-ld-exp', MLP(pe_ld.d_output), pe_ld, dataset_single),\n",
    "]\n",
    "\n",
    "models_experiment_multi = [\n",
    "    ExperimentModel('IPE-multi', 'ipe-exp', MLP(ipe.d_output), ipe, dataset_multi),\n",
    "    ExperimentModel('PE-multi-HD', 'pe-hd-exp', MLP(pe_hd.d_output), pe_hd, dataset_multi),\n",
    "    ExperimentModel('PE-multi-LD', 'pe-ld-exp', MLP(pe_ld.d_output), pe_ld, dataset_multi),\n",
    "]\n"
   ],
   "metadata": {
    "collapsed": false,
    "ExecuteTime": {
     "end_time": "2023-11-28T15:24:32.597960691Z",
     "start_time": "2023-11-28T15:24:32.554839874Z"
    }
   },
   "id": "109f7e9215644c0b"
  },
  {
   "cell_type": "code",
   "execution_count": 3,
   "outputs": [],
   "source": [
    "def retrain_models(models):\n",
    "    for model in models:\n",
    "        train_model(model.model, model.encoding,\n",
    "                    f'{model.training_set_artifact}:latest',\n",
    "                    train_settings,\n",
    "                    output_artifact=model.artifact_name,\n",
    "                    run_name=f'train-{model.display_name}')\n",
    "\n",
    "train_settings = default_training_settings()\n",
    "train_settings.lr = 0.007\n",
    "train_settings.batch_size = 2200\n",
    "train_settings.n_epochs = 25"
   ],
   "metadata": {
    "collapsed": false,
    "ExecuteTime": {
     "end_time": "2023-11-28T15:24:33.916416032Z",
     "start_time": "2023-11-28T15:24:33.900233466Z"
    }
   },
   "id": "46a36480b1b50400"
  },
  {
   "cell_type": "code",
   "execution_count": 4,
   "outputs": [],
   "source": [
    "retrain = False\n",
    "if retrain:\n",
    "    retrain_models(models_experiment_multi)"
   ],
   "metadata": {
    "collapsed": false,
    "ExecuteTime": {
     "end_time": "2023-11-28T15:24:35.188130452Z",
     "start_time": "2023-11-28T15:24:35.175731810Z"
    }
   },
   "id": "3143543a64caab33"
  },
  {
   "cell_type": "code",
   "execution_count": null,
   "outputs": [],
   "source": [
    "from model_evaluation import res_to_scale\n",
    "from pipeline.evaluation import evaluate_model_across_scales\n",
    "\n",
    "scale_lo = 0\n",
    "scale_hi = res_to_scale(8)\n",
    "n_scales = 10\n",
    "\n",
    "for model in [\n",
    "    models_experiment_multi[0],\n",
    "    models_experiment_multi[1]\n",
    "]:\n",
    "    res = 512\n",
    "    evaluate_model_across_scales(f'{model.artifact_name}:latest',\n",
    "                                 scale_lo, scale_hi,\n",
    "                                 count=n_scales,\n",
    "                                 run_name=model.display_name,\n",
    "                                 res=res,\n",
    "                                 assume_constant=model.encoding.type == 'PE')"
   ],
   "metadata": {
    "collapsed": false,
    "is_executing": true
   },
   "id": "41470e44e46076ac"
  }
 ],
 "metadata": {
  "kernelspec": {
   "display_name": "Python 3",
   "language": "python",
   "name": "python3"
  },
  "language_info": {
   "codemirror_mode": {
    "name": "ipython",
    "version": 2
   },
   "file_extension": ".py",
   "mimetype": "text/x-python",
   "name": "python",
   "nbconvert_exporter": "python",
   "pygments_lexer": "ipython2",
   "version": "2.7.6"
  }
 },
 "nbformat": 4,
 "nbformat_minor": 5
}
