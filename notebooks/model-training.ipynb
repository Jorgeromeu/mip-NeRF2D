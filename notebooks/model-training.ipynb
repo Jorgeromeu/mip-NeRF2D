{
 "cells": [
  {
   "cell_type": "code",
   "execution_count": null,
   "id": "initial_id",
   "metadata": {
    "collapsed": true
   },
   "outputs": [],
   "source": [
    "from enc import PE, IPE\n",
    "from experiment_util import ExperimentModel\n",
    "from model import MLP\n",
    "\n",
    "from pipeline.train import TrainingSettings\n",
    "from pipeline.train import train_model\n",
    "\n",
    "%load_ext autoreload\n",
    "%autoreload 2"
   ]
  },
  {
   "cell_type": "code",
   "execution_count": null,
   "outputs": [],
   "source": [
    "pe = PE(d_in=2, n_freqs=10)\n",
    "ipe = IPE(d_in=2, n_freqs=10)\n",
    "model = MLP(pe.d_output, n_hidden=4, d_output=3)\n",
    "\n",
    "models = [\n",
    "    ExperimentModel('PE-single', 'pe-single', model, pe, 'collins-single-macro:latest'),\n",
    "    ExperimentModel('IPE-single', 'ipe-single', model, ipe, 'collins-single-macro:latest'),\n",
    "    ExperimentModel('PE-multi', 'pe-multi', model, pe, 'collins-multi-macro:latest'),\n",
    "    ExperimentModel('IPE-multi', 'ipe-multi', model, ipe, 'collins-multi-macro:latest')\n",
    "]"
   ],
   "metadata": {
    "collapsed": false
   },
   "id": "77aec707bb793bff"
  },
  {
   "cell_type": "code",
   "execution_count": 8,
   "outputs": [],
   "source": [
    "re_train = False\n",
    "\n",
    "train_settings = TrainingSettings()\n",
    "train_settings.batch_size = 4000\n",
    "train_settings.n_epochs = 20\n",
    "train_settings.lr = 0.002\n",
    "train_settings.batch_size = 2000\n",
    "train_settings.n_samples = 100000\n",
    "\n",
    "if re_train:\n",
    "    for model in models:\n",
    "        train_model(model.model, model.encoding, model.training_set_artifact, model.artifact_name, train_settings,\n",
    "                    run_name=f'train-{model.display_name}',\n",
    "                    aliases=['multiscale'])"
   ],
   "metadata": {
    "collapsed": false,
    "ExecuteTime": {
     "end_time": "2023-11-27T14:24:10.976089042Z",
     "start_time": "2023-11-27T14:24:10.836468762Z"
    }
   },
   "id": "6459ad3d6108a472"
  },
  {
   "cell_type": "code",
   "execution_count": null,
   "outputs": [],
   "source": [],
   "metadata": {
    "collapsed": false
   },
   "id": "c74959d71b3f24a"
  }
 ],
 "metadata": {
  "kernelspec": {
   "display_name": "Python 3",
   "language": "python",
   "name": "python3"
  },
  "language_info": {
   "codemirror_mode": {
    "name": "ipython",
    "version": 2
   },
   "file_extension": ".py",
   "mimetype": "text/x-python",
   "name": "python",
   "nbconvert_exporter": "python",
   "pygments_lexer": "ipython2",
   "version": "2.7.6"
  }
 },
 "nbformat": 4,
 "nbformat_minor": 5
}
