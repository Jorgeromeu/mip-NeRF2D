{
 "cells": [
  {
   "cell_type": "code",
   "execution_count": 22,
   "outputs": [
    {
     "name": "stdout",
     "output_type": "stream",
     "text": [
      "The autoreload extension is already loaded. To reload it, use:\n",
      "  %reload_ext autoreload\n"
     ]
    }
   ],
   "source": [
    "import matplotlib.pyplot as plt\n",
    "import torch\n",
    "\n",
    "import wandb\n",
    "import wandb_util\n",
    "from pipeline.train import load_dataset\n",
    "\n",
    "%load_ext autoreload\n",
    "%autoreload 2"
   ],
   "metadata": {
    "collapsed": false,
    "ExecuteTime": {
     "end_time": "2023-11-27T14:36:18.759859237Z",
     "start_time": "2023-11-27T14:36:18.538865659Z"
    }
   },
   "id": "c66de43ddb15249e"
  },
  {
   "cell_type": "code",
   "execution_count": 43,
   "outputs": [],
   "source": [
    "# download datasets\n",
    "api = wandb.Api()\n",
    "dataset_single_art = api.artifact(f'romeu/{wandb_util.PROJECT_NAME}/collins-single-macro:latest')\n",
    "dataset_multi_art = api.artifact(f'romeu/{wandb_util.PROJECT_NAME}/collins-multi-macro:latest')\n",
    "dataset_focused_art = api.artifact(f'romeu/{wandb_util.PROJECT_NAME}/collins-focused-macro:latest')"
   ],
   "metadata": {
    "collapsed": false,
    "ExecuteTime": {
     "end_time": "2023-11-27T14:45:15.734790997Z",
     "start_time": "2023-11-27T14:45:14.204088605Z"
    }
   },
   "id": "7822e2eadb2c26f"
  },
  {
   "cell_type": "code",
   "execution_count": 44,
   "outputs": [
    {
     "name": "stderr",
     "output_type": "stream",
     "text": [
      "\u001B[34m\u001B[1mwandb\u001B[0m:   3 of 3 files downloaded.  \n"
     ]
    },
    {
     "data": {
      "text/plain": "VBox(children=(Label(value='Waiting for wandb.init()...\\r'), FloatProgress(value=0.011115140755525015, max=1.0…",
      "application/vnd.jupyter.widget-view+json": {
       "version_major": 2,
       "version_minor": 0,
       "model_id": "c48df369178846dbad917af98a42fc89"
      }
     },
     "metadata": {},
     "output_type": "display_data"
    },
    {
     "name": "stderr",
     "output_type": "stream",
     "text": [
      "\u001B[34m\u001B[1mwandb\u001B[0m:   3 of 3 files downloaded.  \n"
     ]
    },
    {
     "data": {
      "text/plain": "VBox(children=(Label(value='Waiting for wandb.init()...\\r'), FloatProgress(value=0.011113839488906605, max=1.0…",
      "application/vnd.jupyter.widget-view+json": {
       "version_major": 2,
       "version_minor": 0,
       "model_id": "ab0936aaa08b4041afb1a96d934c797f"
      }
     },
     "metadata": {},
     "output_type": "display_data"
    },
    {
     "name": "stderr",
     "output_type": "stream",
     "text": [
      "\u001B[34m\u001B[1mwandb\u001B[0m:   3 of 3 files downloaded.  \n"
     ]
    }
   ],
   "source": [
    "dataset_single = load_dataset(dataset_single_art)\n",
    "dataset_multi = load_dataset(dataset_multi_art)\n",
    "dataset_focused = load_dataset(dataset_focused_art)"
   ],
   "metadata": {
    "collapsed": false,
    "ExecuteTime": {
     "end_time": "2023-11-27T14:45:44.512941559Z",
     "start_time": "2023-11-27T14:45:16.411202640Z"
    }
   },
   "id": "fc0291e21c8c91c2"
  },
  {
   "cell_type": "code",
   "execution_count": 53,
   "outputs": [
    {
     "data": {
      "text/plain": "<matplotlib.legend.Legend at 0x7ff9e4768b50>"
     },
     "execution_count": 53,
     "metadata": {},
     "output_type": "execute_result"
    },
    {
     "data": {
      "text/plain": "<Figure size 640x480 with 1 Axes>",
      "image/png": "[encoded data removed]"
     },
     "metadata": {},
     "output_type": "display_data"
    }
   ],
   "source": [
    "def dataset_scales(dataset):\n",
    "    covs = dataset.covs\n",
    "    scales = torch.sqrt(torch.diagonal(covs, dim1=2, dim2=1)[:, 0])\n",
    "    return scales\n",
    "\n",
    "scales_single = dataset_scales(dataset_single)\n",
    "scales_multi = dataset_scales(dataset_multi)\n",
    "scales_focused = dataset_scales(dataset_focused)\n",
    "\n",
    "plt.hist(scales_multi, label='multi')\n",
    "plt.hist(scales_focused, label='focused')\n",
    "plt.hist(scales_single, label='single')\n",
    "plt.legend()"
   ],
   "metadata": {
    "collapsed": false,
    "ExecuteTime": {
     "end_time": "2023-11-27T16:06:58.772819937Z",
     "start_time": "2023-11-27T16:06:54.536293720Z"
    }
   },
   "id": "initial_id"
  },
  {
   "cell_type": "code",
   "execution_count": 52,
   "outputs": [
    {
     "data": {
      "text/plain": "0.0005859375"
     },
     "execution_count": 52,
     "metadata": {},
     "output_type": "execute_result"
    }
   ],
   "source": [
    "from model_evaluation import res_to_scale\n",
    "\n",
    "res_to_scale(512, slope=0.3, intercept=0)\n",
    "# res_to_scale(512)"
   ],
   "metadata": {
    "collapsed": false,
    "ExecuteTime": {
     "end_time": "2023-11-27T14:48:40.993168833Z",
     "start_time": "2023-11-27T14:48:40.968787473Z"
    }
   },
   "id": "a68db90144fcf748"
  }
 ],
 "metadata": {
  "kernelspec": {
   "display_name": "Python 3",
   "language": "python",
   "name": "python3"
  },
  "language_info": {
   "codemirror_mode": {
    "name": "ipython",
    "version": 2
   },
   "file_extension": ".py",
   "mimetype": "text/x-python",
   "name": "python",
   "nbconvert_exporter": "python",
   "pygments_lexer": "ipython2",
   "version": "2.7.6"
  }
 },
 "nbformat": 4,
 "nbformat_minor": 5
}
