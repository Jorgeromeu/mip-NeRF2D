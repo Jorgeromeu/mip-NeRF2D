{
 "cells": [
  {
   "cell_type": "code",
   "execution_count": 39,
   "id": "initial_id",
   "metadata": {
    "collapsed": true,
    "ExecuteTime": {
     "end_time": "2023-11-07T11:52:12.331761361Z",
     "start_time": "2023-11-07T11:52:12.329716348Z"
    }
   },
   "outputs": [],
   "source": [
    "import wandb"
   ]
  },
  {
   "cell_type": "code",
   "execution_count": 41,
   "outputs": [],
   "source": [
    "api = wandb.Api()"
   ],
   "metadata": {
    "collapsed": false,
    "ExecuteTime": {
     "end_time": "2023-11-07T11:52:30.277200784Z",
     "start_time": "2023-11-07T11:52:30.234125740Z"
    }
   },
   "id": "71e0479030481604"
  },
  {
   "cell_type": "code",
   "execution_count": 47,
   "outputs": [],
   "source": [
    "from wandb.apis.public import Run\n",
    "\n",
    "run: Run = api.run(\"romeu/facemorph/9qq9f2re\")"
   ],
   "metadata": {
    "collapsed": false,
    "ExecuteTime": {
     "end_time": "2023-11-07T11:53:07.548197769Z",
     "start_time": "2023-11-07T11:53:07.544434856Z"
    }
   },
   "id": "b02f648258f86560"
  },
  {
   "cell_type": "code",
   "execution_count": 54,
   "outputs": [],
   "source": [
    "# for f in run.files():\n",
    "#     print(f)\n",
    "\n",
    "history = run.scan_history(keys=[\"morph\"])\n",
    "morphs = [row['morph'] for row in history]\n",
    "\n",
    "path = morphs[0]['path']\n",
    "\n",
    "# file = run.file(path)\n",
    "# file.download(root=run.dir, exist_ok=True)\n",
    "# run.path"
   ],
   "metadata": {
    "collapsed": false,
    "ExecuteTime": {
     "end_time": "2023-11-07T11:55:20.206674947Z",
     "start_time": "2023-11-07T11:55:19.545675996Z"
    }
   },
   "id": "91b679e6ba8d198"
  }
 ],
 "metadata": {
  "kernelspec": {
   "display_name": "Python 3",
   "language": "python",
   "name": "python3"
  },
  "language_info": {
   "codemirror_mode": {
    "name": "ipython",
    "version": 2
   },
   "file_extension": ".py",
   "mimetype": "text/x-python",
   "name": "python",
   "nbconvert_exporter": "python",
   "pygments_lexer": "ipython2",
   "version": "2.7.6"
  }
 },
 "nbformat": 4,
 "nbformat_minor": 5
}
