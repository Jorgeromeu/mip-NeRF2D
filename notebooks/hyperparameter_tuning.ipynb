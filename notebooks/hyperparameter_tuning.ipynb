{
 "cells": [
  {
   "cell_type": "code",
   "execution_count": 1,
   "id": "initial_id",
   "metadata": {
    "collapsed": true,
    "ExecuteTime": {
     "end_time": "2023-11-27T23:43:00.555739356Z",
     "start_time": "2023-11-27T23:43:00.153532536Z"
    }
   },
   "outputs": [],
   "source": [
    "import wandb_util\n",
    "%load_ext autoreload\n",
    "%autoreload 2\n",
    "import pprint\n",
    "import wandb"
   ]
  },
  {
   "cell_type": "code",
   "execution_count": 2,
   "outputs": [],
   "source": [
    "from enc import IPE, PE\n",
    "from experiment_util import ExperimentModel, default_training_settings\n",
    "from model import MLP\n",
    "\n",
    "pe = PE(d_in=2, n_freqs=10)\n",
    "ipe = IPE(d_in=2, n_freqs=10)\n",
    "model = MLP(d_input=pe.d_output)\n",
    "\n",
    "dataset_multi = 'collins-truemulti'\n",
    "dataset_single = 'collins-single'\n",
    "\n",
    "models = [\n",
    "    ExperimentModel('IPE-multi', 'ipe-multi-small', model, ipe, dataset_multi),\n",
    "    ExperimentModel('PE-multi', 'pe-multi-small', model, pe, dataset_multi),\n",
    "    ExperimentModel('IPE-single', 'ipe-single-small', model, ipe, dataset_single),\n",
    "    ExperimentModel('PE-single', 'pe-single-small', model, pe, dataset_single),\n",
    "]\n",
    "\n",
    "train_settings = default_training_settings()"
   ],
   "metadata": {
    "collapsed": false,
    "ExecuteTime": {
     "end_time": "2023-11-27T23:43:03.540144763Z",
     "start_time": "2023-11-27T23:43:01.780592539Z"
    }
   },
   "id": "49a32f8f78495f18"
  },
  {
   "cell_type": "markdown",
   "source": [
    "# Experiment: alter n-freqs"
   ],
   "metadata": {
    "collapsed": false
   },
   "id": "6996ed8e60ed48e2"
  },
  {
   "cell_type": "code",
   "execution_count": 3,
   "outputs": [],
   "source": [
    "sweep_config = {\n",
    "    'name': 'n_freqs_ipe',\n",
    "    'method': 'grid'\n",
    "}\n",
    "\n",
    "metric = {\n",
    "    'name': 'val_loss.min',\n",
    "    'goal': 'minimize'\n",
    "}\n",
    "\n",
    "sweep_config['metric'] = metric\n",
    "\n",
    "parameters_dict = {\n",
    "    'learning_rate': {\n",
    "        'values': [0.008]\n",
    "    },\n",
    "\n",
    "    'batch_size': {\n",
    "        'values': [2000]\n",
    "    },\n",
    "\n",
    "    'n_freqs': {\n",
    "        'distribution': 'int_uniform',\n",
    "        'min': 1,\n",
    "        'max': 20\n",
    "    }\n",
    "}\n",
    "\n",
    "sweep_config['parameters'] = parameters_dict"
   ],
   "metadata": {
    "collapsed": false,
    "ExecuteTime": {
     "end_time": "2023-11-27T23:43:07.419857639Z",
     "start_time": "2023-11-27T23:43:07.404216769Z"
    }
   },
   "id": "faedbc4cb87474d1"
  },
  {
   "cell_type": "code",
   "execution_count": 16,
   "outputs": [
    {
     "name": "stdout",
     "output_type": "stream",
     "text": [
      "Create sweep with ID: wyeokz8b\n",
      "Sweep URL: https://wandb.ai/romeu/mip-NeRF2D/sweeps/wyeokz8b\n"
     ]
    }
   ],
   "source": [
    "sweep_id = wandb.sweep(sweep_config, project=wandb_util.PROJECT_NAME)"
   ],
   "metadata": {
    "collapsed": false,
    "ExecuteTime": {
     "end_time": "2023-11-27T23:34:09.653908142Z",
     "start_time": "2023-11-27T23:34:09.211936430Z"
    }
   },
   "id": "cf21adfd0708de85"
  },
  {
   "cell_type": "code",
   "execution_count": 5,
   "outputs": [],
   "source": [
    "from pipeline.train import TrainingSettings\n",
    "from pipeline.train import train_model\n",
    "\n",
    "def train(config=None):\n",
    "    with wandb.init(config):\n",
    "        config = wandb.config\n",
    "\n",
    "        enc = IPE(d_in=2, n_freqs=config.n_freqs)\n",
    "        model = MLP(enc.d_output)\n",
    "\n",
    "        # setup training settings \n",
    "        train_settings = TrainingSettings()\n",
    "        train_settings.n_epochs = 20\n",
    "        train_settings.lr = config.learning_rate\n",
    "        train_settings.device = 'cpu'\n",
    "        train_settings.batch_size = config.batch_size\n",
    "\n",
    "        train_model(model, enc, 'collins-single:latest', train_settings, no_init=True)"
   ],
   "metadata": {
    "collapsed": false,
    "ExecuteTime": {
     "end_time": "2023-11-27T23:43:10.547352370Z",
     "start_time": "2023-11-27T23:43:10.516267822Z"
    }
   },
   "id": "2e78a65bb35e280a"
  },
  {
   "cell_type": "code",
   "execution_count": null,
   "outputs": [
    {
     "name": "stderr",
     "output_type": "stream",
     "text": [
      "\u001B[34m\u001B[1mwandb\u001B[0m: Agent Starting Run: ds1om2h9 with config:\n",
      "\u001B[34m\u001B[1mwandb\u001B[0m: \tbatch_size: 2000\n",
      "\u001B[34m\u001B[1mwandb\u001B[0m: \tlearning_rate: 0.008\n",
      "\u001B[34m\u001B[1mwandb\u001B[0m: \tn_freqs: 15\n",
      "\u001B[34m\u001B[1mwandb\u001B[0m: Currently logged in as: \u001B[33mromeu\u001B[0m. Use \u001B[1m`wandb login --relogin`\u001B[0m to force relogin\n"
     ]
    },
    {
     "data": {
      "text/plain": "<IPython.core.display.HTML object>",
      "text/html": "Tracking run with wandb version 0.16.0"
     },
     "metadata": {},
     "output_type": "display_data"
    },
    {
     "data": {
      "text/plain": "<IPython.core.display.HTML object>",
      "text/html": "Run data is saved locally in <code>/home/jorge/fun/mip-NeRF2D/notebooks/wandb/run-20231128_004314-ds1om2h9</code>"
     },
     "metadata": {},
     "output_type": "display_data"
    },
    {
     "data": {
      "text/plain": "<IPython.core.display.HTML object>",
      "text/html": "Syncing run <strong><a href='https://wandb.ai/romeu/mip-NeRF2D/runs/ds1om2h9' target=\"_blank\">bumbling-sweep-15</a></strong> to <a href='https://wandb.ai/romeu/mip-NeRF2D' target=\"_blank\">Weights & Biases</a> (<a href='https://wandb.me/run' target=\"_blank\">docs</a>)<br/>Sweep page: <a href='https://wandb.ai/romeu/mip-NeRF2D/sweeps/wyeokz8b' target=\"_blank\">https://wandb.ai/romeu/mip-NeRF2D/sweeps/wyeokz8b</a>"
     },
     "metadata": {},
     "output_type": "display_data"
    },
    {
     "data": {
      "text/plain": "<IPython.core.display.HTML object>",
      "text/html": " View project at <a href='https://wandb.ai/romeu/mip-NeRF2D' target=\"_blank\">https://wandb.ai/romeu/mip-NeRF2D</a>"
     },
     "metadata": {},
     "output_type": "display_data"
    },
    {
     "data": {
      "text/plain": "<IPython.core.display.HTML object>",
      "text/html": " View sweep at <a href='https://wandb.ai/romeu/mip-NeRF2D/sweeps/wyeokz8b' target=\"_blank\">https://wandb.ai/romeu/mip-NeRF2D/sweeps/wyeokz8b</a>"
     },
     "metadata": {},
     "output_type": "display_data"
    },
    {
     "data": {
      "text/plain": "<IPython.core.display.HTML object>",
      "text/html": " View run at <a href='https://wandb.ai/romeu/mip-NeRF2D/runs/ds1om2h9' target=\"_blank\">https://wandb.ai/romeu/mip-NeRF2D/runs/ds1om2h9</a>"
     },
     "metadata": {},
     "output_type": "display_data"
    },
    {
     "name": "stderr",
     "output_type": "stream",
     "text": [
      "\u001B[34m\u001B[1mwandb\u001B[0m:   3 of 3 files downloaded.  \n",
      "\u001B[34m\u001B[1mwandb\u001B[0m:   1 of 1 files downloaded.  \n",
      "epochs:   0%|          | 0/20 [00:00<?, ?it/s]"
     ]
    }
   ],
   "source": [
    "sweep_id = 'romeu/mip-NeRF2D/wyeokz8b'\n",
    "wandb.agent(sweep_id, train)"
   ],
   "metadata": {
    "collapsed": false,
    "is_executing": true,
    "ExecuteTime": {
     "start_time": "2023-11-27T23:43:12.795457484Z"
    }
   },
   "id": "9be760579801d578"
  },
  {
   "cell_type": "code",
   "execution_count": null,
   "outputs": [],
   "source": [
    "sweep_config = {\n",
    "    'name': 'hyperparameter_seep',\n",
    "    'method': 'random'\n",
    "}\n",
    "\n",
    "metric = {\n",
    "    'name': 'val_loss.min',\n",
    "    'goal': 'minimize'\n",
    "}\n",
    "\n",
    "sweep_config['metric'] = metric\n",
    "\n",
    "parameters_dict = {\n",
    "    'learning_rate': {\n",
    "        'distribution': 'uniform',\n",
    "        'min': 0,\n",
    "        'max': 0.01\n",
    "    },\n",
    "\n",
    "    'batch_size': {\n",
    "        'distribution': 'q_log_uniform_values',\n",
    "        'q': 8,\n",
    "        'min': 1024,\n",
    "        'max': 8192\n",
    "    },\n",
    "\n",
    "    'n_freqs': {\n",
    "        'distribution': 'int_uniform',\n",
    "        'min': 2,\n",
    "        'max': 30\n",
    "    }\n",
    "}\n",
    "\n",
    "sweep_config['parameters'] = parameters_dict\n",
    "\n",
    "pprint.pprint(sweep_config)"
   ],
   "metadata": {
    "collapsed": false
   },
   "id": "ac5a5c85eea61154"
  },
  {
   "cell_type": "code",
   "execution_count": null,
   "outputs": [],
   "source": [
    "sweep_id = wandb.sweep(sweep_config, project=wandb_util.PROJECT_NAME)"
   ],
   "metadata": {
    "collapsed": false
   },
   "id": "38acb33b9f46335"
  },
  {
   "cell_type": "code",
   "execution_count": null,
   "outputs": [],
   "source": [
    "from pipeline.train import TrainingSettings, train_model\n",
    "\n",
    "def train(config=None):\n",
    "    with wandb.init(config):\n",
    "        config = wandb.config\n",
    "\n",
    "        enc = PE(d_in=2, n_freqs=config.n_freqs)\n",
    "        model = MLP(enc.d_output)\n",
    "\n",
    "        # setup training settings \n",
    "        train_settings = TrainingSettings()\n",
    "        train_settings.n_epochs = 20\n",
    "        train_settings.lr = config.learning_rate\n",
    "        train_settings.device = 'cpu'\n",
    "        train_settings.batch_size = config.batch_size\n",
    "\n",
    "        train_model(model, enc, 'collins-single:latest', train_settings, no_init=TrainingSettings)\n"
   ],
   "metadata": {
    "collapsed": false
   },
   "id": "1f9a368ca1426c4"
  },
  {
   "cell_type": "code",
   "execution_count": null,
   "outputs": [
    {
     "name": "stderr",
     "output_type": "stream",
     "text": [
      "\u001B[34m\u001B[1mwandb\u001B[0m: Agent Starting Run: chcaho0n with config:\n",
      "\u001B[34m\u001B[1mwandb\u001B[0m: \tbatch_size: 3096\n",
      "\u001B[34m\u001B[1mwandb\u001B[0m: \tlearning_rate: 0.005298055024467379\n",
      "\u001B[34m\u001B[1mwandb\u001B[0m: \tn_freqs: 27\n"
     ]
    },
    {
     "data": {
      "text/plain": "<IPython.core.display.HTML object>",
      "text/html": "Tracking run with wandb version 0.16.0"
     },
     "metadata": {},
     "output_type": "display_data"
    },
    {
     "data": {
      "text/plain": "<IPython.core.display.HTML object>",
      "text/html": "Run data is saved locally in <code>/home/jorge/fun/mip-NeRF2D/notebooks/wandb/run-20231127_234639-chcaho0n</code>"
     },
     "metadata": {},
     "output_type": "display_data"
    },
    {
     "data": {
      "text/plain": "<IPython.core.display.HTML object>",
      "text/html": "Syncing run <strong><a href='https://wandb.ai/romeu/mip-NeRF2D/runs/chcaho0n' target=\"_blank\">effortless-sweep-11</a></strong> to <a href='https://wandb.ai/romeu/mip-NeRF2D' target=\"_blank\">Weights & Biases</a> (<a href='https://wandb.me/run' target=\"_blank\">docs</a>)<br/>Sweep page: <a href='https://wandb.ai/romeu/mip-NeRF2D/sweeps/684ri139' target=\"_blank\">https://wandb.ai/romeu/mip-NeRF2D/sweeps/684ri139</a>"
     },
     "metadata": {},
     "output_type": "display_data"
    },
    {
     "data": {
      "text/plain": "<IPython.core.display.HTML object>",
      "text/html": " View project at <a href='https://wandb.ai/romeu/mip-NeRF2D' target=\"_blank\">https://wandb.ai/romeu/mip-NeRF2D</a>"
     },
     "metadata": {},
     "output_type": "display_data"
    },
    {
     "data": {
      "text/plain": "<IPython.core.display.HTML object>",
      "text/html": " View sweep at <a href='https://wandb.ai/romeu/mip-NeRF2D/sweeps/684ri139' target=\"_blank\">https://wandb.ai/romeu/mip-NeRF2D/sweeps/684ri139</a>"
     },
     "metadata": {},
     "output_type": "display_data"
    },
    {
     "data": {
      "text/plain": "<IPython.core.display.HTML object>",
      "text/html": " View run at <a href='https://wandb.ai/romeu/mip-NeRF2D/runs/chcaho0n' target=\"_blank\">https://wandb.ai/romeu/mip-NeRF2D/runs/chcaho0n</a>"
     },
     "metadata": {},
     "output_type": "display_data"
    },
    {
     "name": "stderr",
     "output_type": "stream",
     "text": [
      "\u001B[34m\u001B[1mwandb\u001B[0m:   3 of 3 files downloaded.  \n",
      "\u001B[34m\u001B[1mwandb\u001B[0m:   1 of 1 files downloaded.  \n",
      "epochs: 100%|██████████| 20/20 [00:17<00:00,  1.17it/s]\n"
     ]
    },
    {
     "data": {
      "text/plain": "VBox(children=(Label(value='10.006 MB of 10.006 MB uploaded\\r'), FloatProgress(value=1.0, max=1.0)))",
      "application/vnd.jupyter.widget-view+json": {
       "version_major": 2,
       "version_minor": 0,
       "model_id": "8b471721dbac469cb51db8ee28cf5db0"
      }
     },
     "metadata": {},
     "output_type": "display_data"
    },
    {
     "data": {
      "text/plain": "<IPython.core.display.HTML object>",
      "text/html": "<style>\n    table.wandb td:nth-child(1) { padding: 0 10px; text-align: left ; width: auto;} td:nth-child(2) {text-align: left ; width: 100%}\n    .wandb-row { display: flex; flex-direction: row; flex-wrap: wrap; justify-content: flex-start; width: 100% }\n    .wandb-col { display: flex; flex-direction: column; flex-basis: 100%; flex: 1; padding: 10px; }\n    </style>\n<div class=\"wandb-row\"><div class=\"wandb-col\"><h3>Run history:</h3><br/><table class=\"wandb\"><tr><td>epoch</td><td>▁▁▂▂▂▃▃▄▄▄▅▅▅▆▆▇▇▇██</td></tr><tr><td>loss</td><td>█▇▆▆▅▅▄▄▃▃▃▃▂▂▂▂▂▂▂▂▂▂▂▂▂▂▂▂▁▁▁▁▁▁▁▁▁▁▁▁</td></tr><tr><td>render_mse</td><td>█▆▅▄▃▂▂▂▂▂▂▂▁▁▁▁▁▁▁▁</td></tr><tr><td>val_loss</td><td>█▆▅▄▃▂▂▂▂▂▁▁▁▁▁▁▁▁▁▁</td></tr></table><br/></div><div class=\"wandb-col\"><h3>Run summary:</h3><br/><table class=\"wandb\"><tr><td>epoch</td><td>19</td></tr><tr><td>render_mse</td><td>0.01932</td></tr></table><br/></div></div>"
     },
     "metadata": {},
     "output_type": "display_data"
    },
    {
     "data": {
      "text/plain": "<IPython.core.display.HTML object>",
      "text/html": " View run <strong style=\"color:#cdcd00\">effortless-sweep-11</strong> at: <a href='https://wandb.ai/romeu/mip-NeRF2D/runs/chcaho0n' target=\"_blank\">https://wandb.ai/romeu/mip-NeRF2D/runs/chcaho0n</a><br/>Synced 5 W&B file(s), 20 media file(s), 0 artifact file(s) and 0 other file(s)"
     },
     "metadata": {},
     "output_type": "display_data"
    },
    {
     "data": {
      "text/plain": "<IPython.core.display.HTML object>",
      "text/html": "Find logs at: <code>./wandb/run-20231127_234639-chcaho0n/logs</code>"
     },
     "metadata": {},
     "output_type": "display_data"
    },
    {
     "name": "stderr",
     "output_type": "stream",
     "text": [
      "\u001B[34m\u001B[1mwandb\u001B[0m: Agent Starting Run: uy6o1vis with config:\n",
      "\u001B[34m\u001B[1mwandb\u001B[0m: \tbatch_size: 4056\n",
      "\u001B[34m\u001B[1mwandb\u001B[0m: \tlearning_rate: 0.006467877676167939\n",
      "\u001B[34m\u001B[1mwandb\u001B[0m: \tn_freqs: 13\n"
     ]
    },
    {
     "data": {
      "text/plain": "<IPython.core.display.HTML object>",
      "text/html": "Tracking run with wandb version 0.16.0"
     },
     "metadata": {},
     "output_type": "display_data"
    },
    {
     "data": {
      "text/plain": "<IPython.core.display.HTML object>",
      "text/html": "Run data is saved locally in <code>/home/jorge/fun/mip-NeRF2D/notebooks/wandb/run-20231127_234721-uy6o1vis</code>"
     },
     "metadata": {},
     "output_type": "display_data"
    },
    {
     "data": {
      "text/plain": "<IPython.core.display.HTML object>",
      "text/html": "Syncing run <strong><a href='https://wandb.ai/romeu/mip-NeRF2D/runs/uy6o1vis' target=\"_blank\">summer-sweep-12</a></strong> to <a href='https://wandb.ai/romeu/mip-NeRF2D' target=\"_blank\">Weights & Biases</a> (<a href='https://wandb.me/run' target=\"_blank\">docs</a>)<br/>Sweep page: <a href='https://wandb.ai/romeu/mip-NeRF2D/sweeps/684ri139' target=\"_blank\">https://wandb.ai/romeu/mip-NeRF2D/sweeps/684ri139</a>"
     },
     "metadata": {},
     "output_type": "display_data"
    },
    {
     "data": {
      "text/plain": "<IPython.core.display.HTML object>",
      "text/html": " View project at <a href='https://wandb.ai/romeu/mip-NeRF2D' target=\"_blank\">https://wandb.ai/romeu/mip-NeRF2D</a>"
     },
     "metadata": {},
     "output_type": "display_data"
    },
    {
     "data": {
      "text/plain": "<IPython.core.display.HTML object>",
      "text/html": " View sweep at <a href='https://wandb.ai/romeu/mip-NeRF2D/sweeps/684ri139' target=\"_blank\">https://wandb.ai/romeu/mip-NeRF2D/sweeps/684ri139</a>"
     },
     "metadata": {},
     "output_type": "display_data"
    },
    {
     "data": {
      "text/plain": "<IPython.core.display.HTML object>",
      "text/html": " View run at <a href='https://wandb.ai/romeu/mip-NeRF2D/runs/uy6o1vis' target=\"_blank\">https://wandb.ai/romeu/mip-NeRF2D/runs/uy6o1vis</a>"
     },
     "metadata": {},
     "output_type": "display_data"
    },
    {
     "name": "stderr",
     "output_type": "stream",
     "text": [
      "\u001B[34m\u001B[1mwandb\u001B[0m:   3 of 3 files downloaded.  \n",
      "\u001B[34m\u001B[1mwandb\u001B[0m:   1 of 1 files downloaded.  \n",
      "epochs: 100%|██████████| 20/20 [00:17<00:00,  1.14it/s]\n"
     ]
    },
    {
     "data": {
      "text/plain": "VBox(children=(Label(value='7.395 MB of 7.421 MB uploaded\\r'), FloatProgress(value=0.9964733059383323, max=1.0…",
      "application/vnd.jupyter.widget-view+json": {
       "version_major": 2,
       "version_minor": 0,
       "model_id": "c4c6f503b29f4b21b7a359cb56b1ba33"
      }
     },
     "metadata": {},
     "output_type": "display_data"
    },
    {
     "data": {
      "text/plain": "<IPython.core.display.HTML object>",
      "text/html": "<style>\n    table.wandb td:nth-child(1) { padding: 0 10px; text-align: left ; width: auto;} td:nth-child(2) {text-align: left ; width: 100%}\n    .wandb-row { display: flex; flex-direction: row; flex-wrap: wrap; justify-content: flex-start; width: 100% }\n    .wandb-col { display: flex; flex-direction: column; flex-basis: 100%; flex: 1; padding: 10px; }\n    </style>\n<div class=\"wandb-row\"><div class=\"wandb-col\"><h3>Run history:</h3><br/><table class=\"wandb\"><tr><td>epoch</td><td>▁▁▂▂▂▃▃▄▄▄▅▅▅▆▆▇▇▇██</td></tr><tr><td>loss</td><td>█▇▇▆▅▄▄▄▃▃▃▃▂▂▂▂▂▂▂▂▁▁▁▁▁▁▁▁▁▁▁▁▁▁▁▁▁▁▁▁</td></tr><tr><td>render_mse</td><td>█▆▅▄▃▃▂▂▂▂▁▁▁▁▁▁▁▁▁▁</td></tr><tr><td>val_loss</td><td>█▆▅▄▃▃▂▂▂▂▁▁▁▁▁▁▁▁▁▁</td></tr></table><br/></div><div class=\"wandb-col\"><h3>Run summary:</h3><br/><table class=\"wandb\"><tr><td>epoch</td><td>19</td></tr><tr><td>render_mse</td><td>0.00964</td></tr></table><br/></div></div>"
     },
     "metadata": {},
     "output_type": "display_data"
    },
    {
     "data": {
      "text/plain": "<IPython.core.display.HTML object>",
      "text/html": " View run <strong style=\"color:#cdcd00\">summer-sweep-12</strong> at: <a href='https://wandb.ai/romeu/mip-NeRF2D/runs/uy6o1vis' target=\"_blank\">https://wandb.ai/romeu/mip-NeRF2D/runs/uy6o1vis</a><br/>Synced 5 W&B file(s), 20 media file(s), 0 artifact file(s) and 0 other file(s)"
     },
     "metadata": {},
     "output_type": "display_data"
    },
    {
     "data": {
      "text/plain": "<IPython.core.display.HTML object>",
      "text/html": "Find logs at: <code>./wandb/run-20231127_234721-uy6o1vis/logs</code>"
     },
     "metadata": {},
     "output_type": "display_data"
    },
    {
     "name": "stderr",
     "output_type": "stream",
     "text": [
      "\u001B[34m\u001B[1mwandb\u001B[0m: Agent Starting Run: wfh89ptu with config:\n",
      "\u001B[34m\u001B[1mwandb\u001B[0m: \tbatch_size: 7512\n",
      "\u001B[34m\u001B[1mwandb\u001B[0m: \tlearning_rate: 0.001567273718539094\n",
      "\u001B[34m\u001B[1mwandb\u001B[0m: \tn_freqs: 29\n"
     ]
    },
    {
     "data": {
      "text/plain": "<IPython.core.display.HTML object>",
      "text/html": "Tracking run with wandb version 0.16.0"
     },
     "metadata": {},
     "output_type": "display_data"
    },
    {
     "data": {
      "text/plain": "<IPython.core.display.HTML object>",
      "text/html": "Run data is saved locally in <code>/home/jorge/fun/mip-NeRF2D/notebooks/wandb/run-20231127_234753-wfh89ptu</code>"
     },
     "metadata": {},
     "output_type": "display_data"
    },
    {
     "data": {
      "text/plain": "<IPython.core.display.HTML object>",
      "text/html": "Syncing run <strong><a href='https://wandb.ai/romeu/mip-NeRF2D/runs/wfh89ptu' target=\"_blank\">splendid-sweep-13</a></strong> to <a href='https://wandb.ai/romeu/mip-NeRF2D' target=\"_blank\">Weights & Biases</a> (<a href='https://wandb.me/run' target=\"_blank\">docs</a>)<br/>Sweep page: <a href='https://wandb.ai/romeu/mip-NeRF2D/sweeps/684ri139' target=\"_blank\">https://wandb.ai/romeu/mip-NeRF2D/sweeps/684ri139</a>"
     },
     "metadata": {},
     "output_type": "display_data"
    },
    {
     "data": {
      "text/plain": "<IPython.core.display.HTML object>",
      "text/html": " View project at <a href='https://wandb.ai/romeu/mip-NeRF2D' target=\"_blank\">https://wandb.ai/romeu/mip-NeRF2D</a>"
     },
     "metadata": {},
     "output_type": "display_data"
    },
    {
     "data": {
      "text/plain": "<IPython.core.display.HTML object>",
      "text/html": " View sweep at <a href='https://wandb.ai/romeu/mip-NeRF2D/sweeps/684ri139' target=\"_blank\">https://wandb.ai/romeu/mip-NeRF2D/sweeps/684ri139</a>"
     },
     "metadata": {},
     "output_type": "display_data"
    },
    {
     "data": {
      "text/plain": "<IPython.core.display.HTML object>",
      "text/html": " View run at <a href='https://wandb.ai/romeu/mip-NeRF2D/runs/wfh89ptu' target=\"_blank\">https://wandb.ai/romeu/mip-NeRF2D/runs/wfh89ptu</a>"
     },
     "metadata": {},
     "output_type": "display_data"
    },
    {
     "name": "stderr",
     "output_type": "stream",
     "text": [
      "\u001B[34m\u001B[1mwandb\u001B[0m:   3 of 3 files downloaded.  \n",
      "\u001B[34m\u001B[1mwandb\u001B[0m:   1 of 1 files downloaded.  \n",
      "epochs: 100%|██████████| 20/20 [00:16<00:00,  1.22it/s]\n"
     ]
    },
    {
     "data": {
      "text/plain": "VBox(children=(Label(value='9.083 MB of 9.083 MB uploaded\\r'), FloatProgress(value=1.0, max=1.0)))",
      "application/vnd.jupyter.widget-view+json": {
       "version_major": 2,
       "version_minor": 0,
       "model_id": "ea98d642a38f4688a13e196660f659a3"
      }
     },
     "metadata": {},
     "output_type": "display_data"
    },
    {
     "data": {
      "text/plain": "<IPython.core.display.HTML object>",
      "text/html": "<style>\n    table.wandb td:nth-child(1) { padding: 0 10px; text-align: left ; width: auto;} td:nth-child(2) {text-align: left ; width: 100%}\n    .wandb-row { display: flex; flex-direction: row; flex-wrap: wrap; justify-content: flex-start; width: 100% }\n    .wandb-col { display: flex; flex-direction: column; flex-basis: 100%; flex: 1; padding: 10px; }\n    </style>\n<div class=\"wandb-row\"><div class=\"wandb-col\"><h3>Run history:</h3><br/><table class=\"wandb\"><tr><td>epoch</td><td>▁▁▂▂▂▃▃▄▄▄▅▅▅▆▆▇▇▇██</td></tr><tr><td>loss</td><td>██▇▇▇▇▇▆▆▆▅▅▅▅▄▄▄▄▄▄▃▃▃▃▃▃▃▂▂▂▂▂▂▂▂▂▂▁▁▁</td></tr><tr><td>render_mse</td><td>██▇▇▆▅▄▄▄▃▃▂▂▂▂▂▁▁▁▁</td></tr><tr><td>val_loss</td><td>██▇▇▆▅▄▄▄▃▃▂▂▂▂▂▁▁▁▁</td></tr></table><br/></div><div class=\"wandb-col\"><h3>Run summary:</h3><br/><table class=\"wandb\"><tr><td>epoch</td><td>19</td></tr><tr><td>render_mse</td><td>0.03706</td></tr></table><br/></div></div>"
     },
     "metadata": {},
     "output_type": "display_data"
    },
    {
     "data": {
      "text/plain": "<IPython.core.display.HTML object>",
      "text/html": " View run <strong style=\"color:#cdcd00\">splendid-sweep-13</strong> at: <a href='https://wandb.ai/romeu/mip-NeRF2D/runs/wfh89ptu' target=\"_blank\">https://wandb.ai/romeu/mip-NeRF2D/runs/wfh89ptu</a><br/>Synced 5 W&B file(s), 20 media file(s), 0 artifact file(s) and 0 other file(s)"
     },
     "metadata": {},
     "output_type": "display_data"
    },
    {
     "data": {
      "text/plain": "<IPython.core.display.HTML object>",
      "text/html": "Find logs at: <code>./wandb/run-20231127_234753-wfh89ptu/logs</code>"
     },
     "metadata": {},
     "output_type": "display_data"
    },
    {
     "name": "stderr",
     "output_type": "stream",
     "text": [
      "\u001B[34m\u001B[1mwandb\u001B[0m: Sweep Agent: Waiting for job.\n",
      "\u001B[34m\u001B[1mwandb\u001B[0m: Job received.\n",
      "\u001B[34m\u001B[1mwandb\u001B[0m: Agent Starting Run: pscclzox with config:\n",
      "\u001B[34m\u001B[1mwandb\u001B[0m: \tbatch_size: 4176\n",
      "\u001B[34m\u001B[1mwandb\u001B[0m: \tlearning_rate: 0.0017851691075939835\n",
      "\u001B[34m\u001B[1mwandb\u001B[0m: \tn_freqs: 26\n"
     ]
    },
    {
     "data": {
      "text/plain": "<IPython.core.display.HTML object>",
      "text/html": "Tracking run with wandb version 0.16.0"
     },
     "metadata": {},
     "output_type": "display_data"
    },
    {
     "data": {
      "text/plain": "<IPython.core.display.HTML object>",
      "text/html": "Run data is saved locally in <code>/home/jorge/fun/mip-NeRF2D/notebooks/wandb/run-20231127_234833-pscclzox</code>"
     },
     "metadata": {},
     "output_type": "display_data"
    },
    {
     "data": {
      "text/plain": "<IPython.core.display.HTML object>",
      "text/html": "Syncing run <strong><a href='https://wandb.ai/romeu/mip-NeRF2D/runs/pscclzox' target=\"_blank\">daily-sweep-14</a></strong> to <a href='https://wandb.ai/romeu/mip-NeRF2D' target=\"_blank\">Weights & Biases</a> (<a href='https://wandb.me/run' target=\"_blank\">docs</a>)<br/>Sweep page: <a href='https://wandb.ai/romeu/mip-NeRF2D/sweeps/684ri139' target=\"_blank\">https://wandb.ai/romeu/mip-NeRF2D/sweeps/684ri139</a>"
     },
     "metadata": {},
     "output_type": "display_data"
    },
    {
     "data": {
      "text/plain": "<IPython.core.display.HTML object>",
      "text/html": " View project at <a href='https://wandb.ai/romeu/mip-NeRF2D' target=\"_blank\">https://wandb.ai/romeu/mip-NeRF2D</a>"
     },
     "metadata": {},
     "output_type": "display_data"
    },
    {
     "data": {
      "text/plain": "<IPython.core.display.HTML object>",
      "text/html": " View sweep at <a href='https://wandb.ai/romeu/mip-NeRF2D/sweeps/684ri139' target=\"_blank\">https://wandb.ai/romeu/mip-NeRF2D/sweeps/684ri139</a>"
     },
     "metadata": {},
     "output_type": "display_data"
    },
    {
     "data": {
      "text/plain": "<IPython.core.display.HTML object>",
      "text/html": " View run at <a href='https://wandb.ai/romeu/mip-NeRF2D/runs/pscclzox' target=\"_blank\">https://wandb.ai/romeu/mip-NeRF2D/runs/pscclzox</a>"
     },
     "metadata": {},
     "output_type": "display_data"
    },
    {
     "name": "stderr",
     "output_type": "stream",
     "text": [
      "\u001B[34m\u001B[1mwandb\u001B[0m:   3 of 3 files downloaded.  \n",
      "\u001B[34m\u001B[1mwandb\u001B[0m:   1 of 1 files downloaded.  \n",
      "epochs: 100%|██████████| 20/20 [00:17<00:00,  1.14it/s]\n"
     ]
    },
    {
     "data": {
      "text/plain": "VBox(children=(Label(value='9.334 MB of 9.541 MB uploaded\\r'), FloatProgress(value=0.9782676098458891, max=1.0…",
      "application/vnd.jupyter.widget-view+json": {
       "version_major": 2,
       "version_minor": 0,
       "model_id": "3c8ad22713bc4ac4be52564639ad3bfa"
      }
     },
     "metadata": {},
     "output_type": "display_data"
    },
    {
     "data": {
      "text/plain": "<IPython.core.display.HTML object>",
      "text/html": "<style>\n    table.wandb td:nth-child(1) { padding: 0 10px; text-align: left ; width: auto;} td:nth-child(2) {text-align: left ; width: 100%}\n    .wandb-row { display: flex; flex-direction: row; flex-wrap: wrap; justify-content: flex-start; width: 100% }\n    .wandb-col { display: flex; flex-direction: column; flex-basis: 100%; flex: 1; padding: 10px; }\n    </style>\n<div class=\"wandb-row\"><div class=\"wandb-col\"><h3>Run history:</h3><br/><table class=\"wandb\"><tr><td>epoch</td><td>▁▁▂▂▂▃▃▄▄▄▅▅▅▆▆▇▇▇██</td></tr><tr><td>loss</td><td>█▇█▇▇▆▆▆▅▅▅▅▄▄▄▄▄▃▃▃▃▃▃▂▂▂▂▂▂▂▂▂▂▂▂▂▁▂▁▁</td></tr><tr><td>render_mse</td><td>█▇▆▅▅▄▄▃▃▂▂▂▂▂▁▁▁▁▁▁</td></tr><tr><td>val_loss</td><td>█▇▆▅▅▄▃▃▃▂▂▂▂▂▁▁▁▁▁▁</td></tr></table><br/></div><div class=\"wandb-col\"><h3>Run summary:</h3><br/><table class=\"wandb\"><tr><td>epoch</td><td>19</td></tr><tr><td>render_mse</td><td>0.02396</td></tr></table><br/></div></div>"
     },
     "metadata": {},
     "output_type": "display_data"
    },
    {
     "data": {
      "text/plain": "<IPython.core.display.HTML object>",
      "text/html": " View run <strong style=\"color:#cdcd00\">daily-sweep-14</strong> at: <a href='https://wandb.ai/romeu/mip-NeRF2D/runs/pscclzox' target=\"_blank\">https://wandb.ai/romeu/mip-NeRF2D/runs/pscclzox</a><br/>Synced 5 W&B file(s), 20 media file(s), 0 artifact file(s) and 0 other file(s)"
     },
     "metadata": {},
     "output_type": "display_data"
    },
    {
     "data": {
      "text/plain": "<IPython.core.display.HTML object>",
      "text/html": "Find logs at: <code>./wandb/run-20231127_234833-pscclzox/logs</code>"
     },
     "metadata": {},
     "output_type": "display_data"
    },
    {
     "name": "stderr",
     "output_type": "stream",
     "text": [
      "\u001B[34m\u001B[1mwandb\u001B[0m: Agent Starting Run: uawdjq56 with config:\n",
      "\u001B[34m\u001B[1mwandb\u001B[0m: \tbatch_size: 1048\n",
      "\u001B[34m\u001B[1mwandb\u001B[0m: \tlearning_rate: 0.001024156033299034\n",
      "\u001B[34m\u001B[1mwandb\u001B[0m: \tn_freqs: 29\n"
     ]
    },
    {
     "data": {
      "text/plain": "<IPython.core.display.HTML object>",
      "text/html": "Tracking run with wandb version 0.16.0"
     },
     "metadata": {},
     "output_type": "display_data"
    },
    {
     "data": {
      "text/plain": "<IPython.core.display.HTML object>",
      "text/html": "Run data is saved locally in <code>/home/jorge/fun/mip-NeRF2D/notebooks/wandb/run-20231127_234905-uawdjq56</code>"
     },
     "metadata": {},
     "output_type": "display_data"
    },
    {
     "data": {
      "text/plain": "<IPython.core.display.HTML object>",
      "text/html": "Syncing run <strong><a href='https://wandb.ai/romeu/mip-NeRF2D/runs/uawdjq56' target=\"_blank\">peach-sweep-15</a></strong> to <a href='https://wandb.ai/romeu/mip-NeRF2D' target=\"_blank\">Weights & Biases</a> (<a href='https://wandb.me/run' target=\"_blank\">docs</a>)<br/>Sweep page: <a href='https://wandb.ai/romeu/mip-NeRF2D/sweeps/684ri139' target=\"_blank\">https://wandb.ai/romeu/mip-NeRF2D/sweeps/684ri139</a>"
     },
     "metadata": {},
     "output_type": "display_data"
    },
    {
     "data": {
      "text/plain": "<IPython.core.display.HTML object>",
      "text/html": " View project at <a href='https://wandb.ai/romeu/mip-NeRF2D' target=\"_blank\">https://wandb.ai/romeu/mip-NeRF2D</a>"
     },
     "metadata": {},
     "output_type": "display_data"
    },
    {
     "data": {
      "text/plain": "<IPython.core.display.HTML object>",
      "text/html": " View sweep at <a href='https://wandb.ai/romeu/mip-NeRF2D/sweeps/684ri139' target=\"_blank\">https://wandb.ai/romeu/mip-NeRF2D/sweeps/684ri139</a>"
     },
     "metadata": {},
     "output_type": "display_data"
    },
    {
     "data": {
      "text/plain": "<IPython.core.display.HTML object>",
      "text/html": " View run at <a href='https://wandb.ai/romeu/mip-NeRF2D/runs/uawdjq56' target=\"_blank\">https://wandb.ai/romeu/mip-NeRF2D/runs/uawdjq56</a>"
     },
     "metadata": {},
     "output_type": "display_data"
    },
    {
     "name": "stderr",
     "output_type": "stream",
     "text": [
      "\u001B[34m\u001B[1mwandb\u001B[0m:   3 of 3 files downloaded.  \n",
      "\u001B[34m\u001B[1mwandb\u001B[0m:   1 of 1 files downloaded.  \n",
      "epochs: 100%|██████████| 20/20 [00:17<00:00,  1.15it/s]\n"
     ]
    },
    {
     "data": {
      "text/plain": "VBox(children=(Label(value='9.843 MB of 10.404 MB uploaded\\r'), FloatProgress(value=0.9460785302229128, max=1.…",
      "application/vnd.jupyter.widget-view+json": {
       "version_major": 2,
       "version_minor": 0,
       "model_id": "3d75e5622edb4a2e95f8769f07d481f1"
      }
     },
     "metadata": {},
     "output_type": "display_data"
    },
    {
     "data": {
      "text/plain": "<IPython.core.display.HTML object>",
      "text/html": "<style>\n    table.wandb td:nth-child(1) { padding: 0 10px; text-align: left ; width: auto;} td:nth-child(2) {text-align: left ; width: 100%}\n    .wandb-row { display: flex; flex-direction: row; flex-wrap: wrap; justify-content: flex-start; width: 100% }\n    .wandb-col { display: flex; flex-direction: column; flex-basis: 100%; flex: 1; padding: 10px; }\n    </style>\n<div class=\"wandb-row\"><div class=\"wandb-col\"><h3>Run history:</h3><br/><table class=\"wandb\"><tr><td>epoch</td><td>▁▁▂▂▂▃▃▄▄▄▅▅▅▆▆▇▇▇██</td></tr><tr><td>loss</td><td>██▆▆▅▄▄▄▄▃▃▃▃▃▂▂▂▂▂▂▂▂▂▂▂▂▂▂▁▂▁▁▁▁▁▂▁▂▁▁</td></tr><tr><td>render_mse</td><td>█▆▄▄▃▃▂▂▂▂▂▂▁▁▁▁▂▁▁▁</td></tr><tr><td>val_loss</td><td>█▆▄▄▃▃▂▂▂▂▂▂▁▁▁▁▁▁▁▁</td></tr></table><br/></div><div class=\"wandb-col\"><h3>Run summary:</h3><br/><table class=\"wandb\"><tr><td>epoch</td><td>19</td></tr><tr><td>render_mse</td><td>0.02127</td></tr></table><br/></div></div>"
     },
     "metadata": {},
     "output_type": "display_data"
    },
    {
     "data": {
      "text/plain": "<IPython.core.display.HTML object>",
      "text/html": " View run <strong style=\"color:#cdcd00\">peach-sweep-15</strong> at: <a href='https://wandb.ai/romeu/mip-NeRF2D/runs/uawdjq56' target=\"_blank\">https://wandb.ai/romeu/mip-NeRF2D/runs/uawdjq56</a><br/>Synced 5 W&B file(s), 20 media file(s), 0 artifact file(s) and 0 other file(s)"
     },
     "metadata": {},
     "output_type": "display_data"
    },
    {
     "data": {
      "text/plain": "<IPython.core.display.HTML object>",
      "text/html": "Find logs at: <code>./wandb/run-20231127_234905-uawdjq56/logs</code>"
     },
     "metadata": {},
     "output_type": "display_data"
    },
    {
     "name": "stderr",
     "output_type": "stream",
     "text": [
      "\u001B[34m\u001B[1mwandb\u001B[0m: Sweep Agent: Waiting for job.\n",
      "\u001B[34m\u001B[1mwandb\u001B[0m: Job received.\n",
      "\u001B[34m\u001B[1mwandb\u001B[0m: Agent Starting Run: zcf72xi5 with config:\n",
      "\u001B[34m\u001B[1mwandb\u001B[0m: \tbatch_size: 7408\n",
      "\u001B[34m\u001B[1mwandb\u001B[0m: \tlearning_rate: 0.0015894442450967673\n",
      "\u001B[34m\u001B[1mwandb\u001B[0m: \tn_freqs: 3\n"
     ]
    },
    {
     "data": {
      "text/plain": "<IPython.core.display.HTML object>",
      "text/html": "Tracking run with wandb version 0.16.0"
     },
     "metadata": {},
     "output_type": "display_data"
    },
    {
     "data": {
      "text/plain": "<IPython.core.display.HTML object>",
      "text/html": "Run data is saved locally in <code>/home/jorge/fun/mip-NeRF2D/notebooks/wandb/run-20231127_234946-zcf72xi5</code>"
     },
     "metadata": {},
     "output_type": "display_data"
    },
    {
     "data": {
      "text/plain": "<IPython.core.display.HTML object>",
      "text/html": "Syncing run <strong><a href='https://wandb.ai/romeu/mip-NeRF2D/runs/zcf72xi5' target=\"_blank\">dandy-sweep-16</a></strong> to <a href='https://wandb.ai/romeu/mip-NeRF2D' target=\"_blank\">Weights & Biases</a> (<a href='https://wandb.me/run' target=\"_blank\">docs</a>)<br/>Sweep page: <a href='https://wandb.ai/romeu/mip-NeRF2D/sweeps/684ri139' target=\"_blank\">https://wandb.ai/romeu/mip-NeRF2D/sweeps/684ri139</a>"
     },
     "metadata": {},
     "output_type": "display_data"
    },
    {
     "data": {
      "text/plain": "<IPython.core.display.HTML object>",
      "text/html": " View project at <a href='https://wandb.ai/romeu/mip-NeRF2D' target=\"_blank\">https://wandb.ai/romeu/mip-NeRF2D</a>"
     },
     "metadata": {},
     "output_type": "display_data"
    },
    {
     "data": {
      "text/plain": "<IPython.core.display.HTML object>",
      "text/html": " View sweep at <a href='https://wandb.ai/romeu/mip-NeRF2D/sweeps/684ri139' target=\"_blank\">https://wandb.ai/romeu/mip-NeRF2D/sweeps/684ri139</a>"
     },
     "metadata": {},
     "output_type": "display_data"
    },
    {
     "data": {
      "text/plain": "<IPython.core.display.HTML object>",
      "text/html": " View run at <a href='https://wandb.ai/romeu/mip-NeRF2D/runs/zcf72xi5' target=\"_blank\">https://wandb.ai/romeu/mip-NeRF2D/runs/zcf72xi5</a>"
     },
     "metadata": {},
     "output_type": "display_data"
    },
    {
     "name": "stderr",
     "output_type": "stream",
     "text": [
      "\u001B[34m\u001B[1mwandb\u001B[0m:   3 of 3 files downloaded.  \n",
      "\u001B[34m\u001B[1mwandb\u001B[0m:   1 of 1 files downloaded.  \n",
      "epochs: 100%|██████████| 20/20 [00:14<00:00,  1.40it/s]\n"
     ]
    },
    {
     "data": {
      "text/plain": "VBox(children=(Label(value='1.435 MB of 1.435 MB uploaded\\r'), FloatProgress(value=1.0, max=1.0)))",
      "application/vnd.jupyter.widget-view+json": {
       "version_major": 2,
       "version_minor": 0,
       "model_id": "b2a9b8caae0b4467bdccd2d7dc8855af"
      }
     },
     "metadata": {},
     "output_type": "display_data"
    },
    {
     "data": {
      "text/plain": "<IPython.core.display.HTML object>",
      "text/html": "<style>\n    table.wandb td:nth-child(1) { padding: 0 10px; text-align: left ; width: auto;} td:nth-child(2) {text-align: left ; width: 100%}\n    .wandb-row { display: flex; flex-direction: row; flex-wrap: wrap; justify-content: flex-start; width: 100% }\n    .wandb-col { display: flex; flex-direction: column; flex-basis: 100%; flex: 1; padding: 10px; }\n    </style>\n<div class=\"wandb-row\"><div class=\"wandb-col\"><h3>Run history:</h3><br/><table class=\"wandb\"><tr><td>epoch</td><td>▁▁▂▂▂▃▃▄▄▄▅▅▅▆▆▇▇▇██</td></tr><tr><td>loss</td><td>██▇▇▆▆▅▅▄▄▄▄▃▃▃▃▃▃▃▃▃▂▂▂▂▂▂▂▂▂▂▁▁▁▁▁▁▁▁▁</td></tr><tr><td>render_mse</td><td>█▇▆▅▄▄▄▃▃▃▃▂▂▂▂▂▁▁▁▁</td></tr><tr><td>val_loss</td><td>█▇▅▄▄▄▃▃▃▃▃▂▂▂▂▁▁▁▁▁</td></tr></table><br/></div><div class=\"wandb-col\"><h3>Run summary:</h3><br/><table class=\"wandb\"><tr><td>epoch</td><td>19</td></tr><tr><td>render_mse</td><td>0.04365</td></tr></table><br/></div></div>"
     },
     "metadata": {},
     "output_type": "display_data"
    },
    {
     "data": {
      "text/plain": "<IPython.core.display.HTML object>",
      "text/html": " View run <strong style=\"color:#cdcd00\">dandy-sweep-16</strong> at: <a href='https://wandb.ai/romeu/mip-NeRF2D/runs/zcf72xi5' target=\"_blank\">https://wandb.ai/romeu/mip-NeRF2D/runs/zcf72xi5</a><br/>Synced 5 W&B file(s), 20 media file(s), 0 artifact file(s) and 0 other file(s)"
     },
     "metadata": {},
     "output_type": "display_data"
    },
    {
     "data": {
      "text/plain": "<IPython.core.display.HTML object>",
      "text/html": "Find logs at: <code>./wandb/run-20231127_234946-zcf72xi5/logs</code>"
     },
     "metadata": {},
     "output_type": "display_data"
    },
    {
     "name": "stderr",
     "output_type": "stream",
     "text": [
      "\u001B[34m\u001B[1mwandb\u001B[0m: Sweep Agent: Waiting for job.\n",
      "\u001B[34m\u001B[1mwandb\u001B[0m: Job received.\n",
      "\u001B[34m\u001B[1mwandb\u001B[0m: Agent Starting Run: 5k1ihrtm with config:\n",
      "\u001B[34m\u001B[1mwandb\u001B[0m: \tbatch_size: 5672\n",
      "\u001B[34m\u001B[1mwandb\u001B[0m: \tlearning_rate: 0.00062722612999077\n",
      "\u001B[34m\u001B[1mwandb\u001B[0m: \tn_freqs: 13\n"
     ]
    },
    {
     "data": {
      "text/plain": "<IPython.core.display.HTML object>",
      "text/html": "Tracking run with wandb version 0.16.0"
     },
     "metadata": {},
     "output_type": "display_data"
    },
    {
     "data": {
      "text/plain": "<IPython.core.display.HTML object>",
      "text/html": "Run data is saved locally in <code>/home/jorge/fun/mip-NeRF2D/notebooks/wandb/run-20231127_235024-5k1ihrtm</code>"
     },
     "metadata": {},
     "output_type": "display_data"
    },
    {
     "data": {
      "text/plain": "<IPython.core.display.HTML object>",
      "text/html": "Syncing run <strong><a href='https://wandb.ai/romeu/mip-NeRF2D/runs/5k1ihrtm' target=\"_blank\">comfy-sweep-17</a></strong> to <a href='https://wandb.ai/romeu/mip-NeRF2D' target=\"_blank\">Weights & Biases</a> (<a href='https://wandb.me/run' target=\"_blank\">docs</a>)<br/>Sweep page: <a href='https://wandb.ai/romeu/mip-NeRF2D/sweeps/684ri139' target=\"_blank\">https://wandb.ai/romeu/mip-NeRF2D/sweeps/684ri139</a>"
     },
     "metadata": {},
     "output_type": "display_data"
    },
    {
     "data": {
      "text/plain": "<IPython.core.display.HTML object>",
      "text/html": " View project at <a href='https://wandb.ai/romeu/mip-NeRF2D' target=\"_blank\">https://wandb.ai/romeu/mip-NeRF2D</a>"
     },
     "metadata": {},
     "output_type": "display_data"
    },
    {
     "data": {
      "text/plain": "<IPython.core.display.HTML object>",
      "text/html": " View sweep at <a href='https://wandb.ai/romeu/mip-NeRF2D/sweeps/684ri139' target=\"_blank\">https://wandb.ai/romeu/mip-NeRF2D/sweeps/684ri139</a>"
     },
     "metadata": {},
     "output_type": "display_data"
    },
    {
     "data": {
      "text/plain": "<IPython.core.display.HTML object>",
      "text/html": " View run at <a href='https://wandb.ai/romeu/mip-NeRF2D/runs/5k1ihrtm' target=\"_blank\">https://wandb.ai/romeu/mip-NeRF2D/runs/5k1ihrtm</a>"
     },
     "metadata": {},
     "output_type": "display_data"
    },
    {
     "name": "stderr",
     "output_type": "stream",
     "text": [
      "\u001B[34m\u001B[1mwandb\u001B[0m:   3 of 3 files downloaded.  \n",
      "\u001B[34m\u001B[1mwandb\u001B[0m:   1 of 1 files downloaded.  \n",
      "epochs: 100%|██████████| 20/20 [00:16<00:00,  1.20it/s]\n"
     ]
    },
    {
     "data": {
      "text/plain": "VBox(children=(Label(value='7.723 MB of 7.723 MB uploaded\\r'), FloatProgress(value=1.0, max=1.0)))",
      "application/vnd.jupyter.widget-view+json": {
       "version_major": 2,
       "version_minor": 0,
       "model_id": "52f5793036f94302b370e447c15e2a9f"
      }
     },
     "metadata": {},
     "output_type": "display_data"
    },
    {
     "data": {
      "text/plain": "<IPython.core.display.HTML object>",
      "text/html": "<style>\n    table.wandb td:nth-child(1) { padding: 0 10px; text-align: left ; width: auto;} td:nth-child(2) {text-align: left ; width: 100%}\n    .wandb-row { display: flex; flex-direction: row; flex-wrap: wrap; justify-content: flex-start; width: 100% }\n    .wandb-col { display: flex; flex-direction: column; flex-basis: 100%; flex: 1; padding: 10px; }\n    </style>\n<div class=\"wandb-row\"><div class=\"wandb-col\"><h3>Run history:</h3><br/><table class=\"wandb\"><tr><td>epoch</td><td>▁▁▂▂▂▃▃▄▄▄▅▅▅▆▆▇▇▇██</td></tr><tr><td>loss</td><td>███▇▇▇▇▇▇▆▆▅▅▅▅▄▄▄▄▄▄▃▃▃▃▃▂▂▂▂▂▂▂▂▂▂▂▁▁▁</td></tr><tr><td>render_mse</td><td>█▇▇▇▆▅▅▅▄▄▃▃▂▂▂▂▁▁▁▁</td></tr><tr><td>val_loss</td><td>█▇▇▇▆▅▅▄▄▄▃▃▂▂▂▂▁▁▁▁</td></tr></table><br/></div><div class=\"wandb-col\"><h3>Run summary:</h3><br/><table class=\"wandb\"><tr><td>epoch</td><td>19</td></tr><tr><td>render_mse</td><td>0.03584</td></tr></table><br/></div></div>"
     },
     "metadata": {},
     "output_type": "display_data"
    },
    {
     "data": {
      "text/plain": "<IPython.core.display.HTML object>",
      "text/html": " View run <strong style=\"color:#cdcd00\">comfy-sweep-17</strong> at: <a href='https://wandb.ai/romeu/mip-NeRF2D/runs/5k1ihrtm' target=\"_blank\">https://wandb.ai/romeu/mip-NeRF2D/runs/5k1ihrtm</a><br/>Synced 5 W&B file(s), 20 media file(s), 0 artifact file(s) and 0 other file(s)"
     },
     "metadata": {},
     "output_type": "display_data"
    },
    {
     "data": {
      "text/plain": "<IPython.core.display.HTML object>",
      "text/html": "Find logs at: <code>./wandb/run-20231127_235024-5k1ihrtm/logs</code>"
     },
     "metadata": {},
     "output_type": "display_data"
    },
    {
     "name": "stderr",
     "output_type": "stream",
     "text": [
      "\u001B[34m\u001B[1mwandb\u001B[0m: Agent Starting Run: hjmjopxt with config:\n",
      "\u001B[34m\u001B[1mwandb\u001B[0m: \tbatch_size: 1176\n",
      "\u001B[34m\u001B[1mwandb\u001B[0m: \tlearning_rate: 0.009188163433270075\n",
      "\u001B[34m\u001B[1mwandb\u001B[0m: \tn_freqs: 5\n"
     ]
    },
    {
     "data": {
      "text/plain": "<IPython.core.display.HTML object>",
      "text/html": "Tracking run with wandb version 0.16.0"
     },
     "metadata": {},
     "output_type": "display_data"
    },
    {
     "data": {
      "text/plain": "<IPython.core.display.HTML object>",
      "text/html": "Run data is saved locally in <code>/home/jorge/fun/mip-NeRF2D/notebooks/wandb/run-20231127_235056-hjmjopxt</code>"
     },
     "metadata": {},
     "output_type": "display_data"
    },
    {
     "data": {
      "text/plain": "<IPython.core.display.HTML object>",
      "text/html": "Syncing run <strong><a href='https://wandb.ai/romeu/mip-NeRF2D/runs/hjmjopxt' target=\"_blank\">lemon-sweep-18</a></strong> to <a href='https://wandb.ai/romeu/mip-NeRF2D' target=\"_blank\">Weights & Biases</a> (<a href='https://wandb.me/run' target=\"_blank\">docs</a>)<br/>Sweep page: <a href='https://wandb.ai/romeu/mip-NeRF2D/sweeps/684ri139' target=\"_blank\">https://wandb.ai/romeu/mip-NeRF2D/sweeps/684ri139</a>"
     },
     "metadata": {},
     "output_type": "display_data"
    },
    {
     "data": {
      "text/plain": "<IPython.core.display.HTML object>",
      "text/html": " View project at <a href='https://wandb.ai/romeu/mip-NeRF2D' target=\"_blank\">https://wandb.ai/romeu/mip-NeRF2D</a>"
     },
     "metadata": {},
     "output_type": "display_data"
    },
    {
     "data": {
      "text/plain": "<IPython.core.display.HTML object>",
      "text/html": " View sweep at <a href='https://wandb.ai/romeu/mip-NeRF2D/sweeps/684ri139' target=\"_blank\">https://wandb.ai/romeu/mip-NeRF2D/sweeps/684ri139</a>"
     },
     "metadata": {},
     "output_type": "display_data"
    },
    {
     "data": {
      "text/plain": "<IPython.core.display.HTML object>",
      "text/html": " View run at <a href='https://wandb.ai/romeu/mip-NeRF2D/runs/hjmjopxt' target=\"_blank\">https://wandb.ai/romeu/mip-NeRF2D/runs/hjmjopxt</a>"
     },
     "metadata": {},
     "output_type": "display_data"
    },
    {
     "name": "stderr",
     "output_type": "stream",
     "text": [
      "\u001B[34m\u001B[1mwandb\u001B[0m:   3 of 3 files downloaded.  \n",
      "\u001B[34m\u001B[1mwandb\u001B[0m:   1 of 1 files downloaded.  \n",
      "epochs: 100%|██████████| 20/20 [00:15<00:00,  1.27it/s]\n"
     ]
    },
    {
     "data": {
      "text/plain": "VBox(children=(Label(value='3.788 MB of 3.788 MB uploaded\\r'), FloatProgress(value=1.0, max=1.0)))",
      "application/vnd.jupyter.widget-view+json": {
       "version_major": 2,
       "version_minor": 0,
       "model_id": "d50f533ec6d04d758de42e9008ded8b2"
      }
     },
     "metadata": {},
     "output_type": "display_data"
    },
    {
     "data": {
      "text/plain": "<IPython.core.display.HTML object>",
      "text/html": "<style>\n    table.wandb td:nth-child(1) { padding: 0 10px; text-align: left ; width: auto;} td:nth-child(2) {text-align: left ; width: 100%}\n    .wandb-row { display: flex; flex-direction: row; flex-wrap: wrap; justify-content: flex-start; width: 100% }\n    .wandb-col { display: flex; flex-direction: column; flex-basis: 100%; flex: 1; padding: 10px; }\n    </style>\n<div class=\"wandb-row\"><div class=\"wandb-col\"><h3>Run history:</h3><br/><table class=\"wandb\"><tr><td>epoch</td><td>▁▁▂▂▂▃▃▄▄▄▅▅▅▆▆▇▇▇██</td></tr><tr><td>loss</td><td>█▅▄▄▃▂▂▂▂▂▂▂▁▁▁▂▁▁▁▁▁▁▁▁▁▁▁▁▁▁▁▁▁▁▁▁▁▁▁▁</td></tr><tr><td>render_mse</td><td>█▆▄▃▃▂▂▂▂▂▂▂▁▁▁▁▁▁▁▁</td></tr><tr><td>val_loss</td><td>█▆▄▃▃▂▂▂▂▂▂▂▁▁▁▁▁▁▁▁</td></tr></table><br/></div><div class=\"wandb-col\"><h3>Run summary:</h3><br/><table class=\"wandb\"><tr><td>epoch</td><td>19</td></tr><tr><td>render_mse</td><td>0.01008</td></tr></table><br/></div></div>"
     },
     "metadata": {},
     "output_type": "display_data"
    },
    {
     "data": {
      "text/plain": "<IPython.core.display.HTML object>",
      "text/html": " View run <strong style=\"color:#cdcd00\">lemon-sweep-18</strong> at: <a href='https://wandb.ai/romeu/mip-NeRF2D/runs/hjmjopxt' target=\"_blank\">https://wandb.ai/romeu/mip-NeRF2D/runs/hjmjopxt</a><br/>Synced 5 W&B file(s), 20 media file(s), 0 artifact file(s) and 0 other file(s)"
     },
     "metadata": {},
     "output_type": "display_data"
    },
    {
     "data": {
      "text/plain": "<IPython.core.display.HTML object>",
      "text/html": "Find logs at: <code>./wandb/run-20231127_235056-hjmjopxt/logs</code>"
     },
     "metadata": {},
     "output_type": "display_data"
    },
    {
     "name": "stderr",
     "output_type": "stream",
     "text": [
      "\u001B[34m\u001B[1mwandb\u001B[0m: Sweep Agent: Waiting for job.\n",
      "\u001B[34m\u001B[1mwandb\u001B[0m: Job received.\n",
      "\u001B[34m\u001B[1mwandb\u001B[0m: Agent Starting Run: pmi1im6e with config:\n",
      "\u001B[34m\u001B[1mwandb\u001B[0m: \tbatch_size: 1656\n",
      "\u001B[34m\u001B[1mwandb\u001B[0m: \tlearning_rate: 0.0069918517683214935\n",
      "\u001B[34m\u001B[1mwandb\u001B[0m: \tn_freqs: 23\n"
     ]
    },
    {
     "data": {
      "text/plain": "<IPython.core.display.HTML object>",
      "text/html": "Tracking run with wandb version 0.16.0"
     },
     "metadata": {},
     "output_type": "display_data"
    },
    {
     "data": {
      "text/plain": "<IPython.core.display.HTML object>",
      "text/html": "Run data is saved locally in <code>/home/jorge/fun/mip-NeRF2D/notebooks/wandb/run-20231127_235136-pmi1im6e</code>"
     },
     "metadata": {},
     "output_type": "display_data"
    },
    {
     "data": {
      "text/plain": "<IPython.core.display.HTML object>",
      "text/html": "Syncing run <strong><a href='https://wandb.ai/romeu/mip-NeRF2D/runs/pmi1im6e' target=\"_blank\">floral-sweep-19</a></strong> to <a href='https://wandb.ai/romeu/mip-NeRF2D' target=\"_blank\">Weights & Biases</a> (<a href='https://wandb.me/run' target=\"_blank\">docs</a>)<br/>Sweep page: <a href='https://wandb.ai/romeu/mip-NeRF2D/sweeps/684ri139' target=\"_blank\">https://wandb.ai/romeu/mip-NeRF2D/sweeps/684ri139</a>"
     },
     "metadata": {},
     "output_type": "display_data"
    },
    {
     "data": {
      "text/plain": "<IPython.core.display.HTML object>",
      "text/html": " View project at <a href='https://wandb.ai/romeu/mip-NeRF2D' target=\"_blank\">https://wandb.ai/romeu/mip-NeRF2D</a>"
     },
     "metadata": {},
     "output_type": "display_data"
    },
    {
     "data": {
      "text/plain": "<IPython.core.display.HTML object>",
      "text/html": " View sweep at <a href='https://wandb.ai/romeu/mip-NeRF2D/sweeps/684ri139' target=\"_blank\">https://wandb.ai/romeu/mip-NeRF2D/sweeps/684ri139</a>"
     },
     "metadata": {},
     "output_type": "display_data"
    },
    {
     "data": {
      "text/plain": "<IPython.core.display.HTML object>",
      "text/html": " View run at <a href='https://wandb.ai/romeu/mip-NeRF2D/runs/pmi1im6e' target=\"_blank\">https://wandb.ai/romeu/mip-NeRF2D/runs/pmi1im6e</a>"
     },
     "metadata": {},
     "output_type": "display_data"
    },
    {
     "name": "stderr",
     "output_type": "stream",
     "text": [
      "\u001B[34m\u001B[1mwandb\u001B[0m:   3 of 3 files downloaded.  \n",
      "\u001B[34m\u001B[1mwandb\u001B[0m:   1 of 1 files downloaded.  \n",
      "epochs: 100%|██████████| 20/20 [00:15<00:00,  1.26it/s]\n"
     ]
    },
    {
     "data": {
      "text/plain": "VBox(children=(Label(value='8.608 MB of 9.071 MB uploaded\\r'), FloatProgress(value=0.9490283943431679, max=1.0…",
      "application/vnd.jupyter.widget-view+json": {
       "version_major": 2,
       "version_minor": 0,
       "model_id": "46d07034210e465a87260387f15daaac"
      }
     },
     "metadata": {},
     "output_type": "display_data"
    },
    {
     "data": {
      "text/plain": "<IPython.core.display.HTML object>",
      "text/html": "<style>\n    table.wandb td:nth-child(1) { padding: 0 10px; text-align: left ; width: auto;} td:nth-child(2) {text-align: left ; width: 100%}\n    .wandb-row { display: flex; flex-direction: row; flex-wrap: wrap; justify-content: flex-start; width: 100% }\n    .wandb-col { display: flex; flex-direction: column; flex-basis: 100%; flex: 1; padding: 10px; }\n    </style>\n<div class=\"wandb-row\"><div class=\"wandb-col\"><h3>Run history:</h3><br/><table class=\"wandb\"><tr><td>epoch</td><td>▁▁▂▂▂▃▃▄▄▄▅▅▅▆▆▇▇▇██</td></tr><tr><td>loss</td><td>█▇▆▅▄▄▃▃▂▂▂▂▂▂▂▂▂▂▁▁▂▁▂▁▁▁▁▁▁▁▁▁▁▁▁▁▁▁▁▁</td></tr><tr><td>render_mse</td><td>█▆▄▃▂▂▂▂▁▂▁▁▁▁▁▁▁▁▁▁</td></tr><tr><td>val_loss</td><td>█▆▄▃▂▂▁▂▁▂▁▁▁▁▁▁▁▁▁▁</td></tr></table><br/></div><div class=\"wandb-col\"><h3>Run summary:</h3><br/><table class=\"wandb\"><tr><td>epoch</td><td>19</td></tr><tr><td>render_mse</td><td>0.0124</td></tr></table><br/></div></div>"
     },
     "metadata": {},
     "output_type": "display_data"
    },
    {
     "data": {
      "text/plain": "<IPython.core.display.HTML object>",
      "text/html": " View run <strong style=\"color:#cdcd00\">floral-sweep-19</strong> at: <a href='https://wandb.ai/romeu/mip-NeRF2D/runs/pmi1im6e' target=\"_blank\">https://wandb.ai/romeu/mip-NeRF2D/runs/pmi1im6e</a><br/>Synced 5 W&B file(s), 20 media file(s), 0 artifact file(s) and 0 other file(s)"
     },
     "metadata": {},
     "output_type": "display_data"
    },
    {
     "data": {
      "text/plain": "<IPython.core.display.HTML object>",
      "text/html": "Find logs at: <code>./wandb/run-20231127_235136-pmi1im6e/logs</code>"
     },
     "metadata": {},
     "output_type": "display_data"
    },
    {
     "name": "stderr",
     "output_type": "stream",
     "text": [
      "\u001B[34m\u001B[1mwandb\u001B[0m: Agent Starting Run: mhqww9q2 with config:\n",
      "\u001B[34m\u001B[1mwandb\u001B[0m: \tbatch_size: 1152\n",
      "\u001B[34m\u001B[1mwandb\u001B[0m: \tlearning_rate: 0.008940939065376583\n",
      "\u001B[34m\u001B[1mwandb\u001B[0m: \tn_freqs: 19\n"
     ]
    },
    {
     "data": {
      "text/plain": "<IPython.core.display.HTML object>",
      "text/html": "Tracking run with wandb version 0.16.0"
     },
     "metadata": {},
     "output_type": "display_data"
    },
    {
     "data": {
      "text/plain": "<IPython.core.display.HTML object>",
      "text/html": "Run data is saved locally in <code>/home/jorge/fun/mip-NeRF2D/notebooks/wandb/run-20231127_235208-mhqww9q2</code>"
     },
     "metadata": {},
     "output_type": "display_data"
    },
    {
     "data": {
      "text/plain": "<IPython.core.display.HTML object>",
      "text/html": "Syncing run <strong><a href='https://wandb.ai/romeu/mip-NeRF2D/runs/mhqww9q2' target=\"_blank\">dashing-sweep-20</a></strong> to <a href='https://wandb.ai/romeu/mip-NeRF2D' target=\"_blank\">Weights & Biases</a> (<a href='https://wandb.me/run' target=\"_blank\">docs</a>)<br/>Sweep page: <a href='https://wandb.ai/romeu/mip-NeRF2D/sweeps/684ri139' target=\"_blank\">https://wandb.ai/romeu/mip-NeRF2D/sweeps/684ri139</a>"
     },
     "metadata": {},
     "output_type": "display_data"
    },
    {
     "data": {
      "text/plain": "<IPython.core.display.HTML object>",
      "text/html": " View project at <a href='https://wandb.ai/romeu/mip-NeRF2D' target=\"_blank\">https://wandb.ai/romeu/mip-NeRF2D</a>"
     },
     "metadata": {},
     "output_type": "display_data"
    },
    {
     "data": {
      "text/plain": "<IPython.core.display.HTML object>",
      "text/html": " View sweep at <a href='https://wandb.ai/romeu/mip-NeRF2D/sweeps/684ri139' target=\"_blank\">https://wandb.ai/romeu/mip-NeRF2D/sweeps/684ri139</a>"
     },
     "metadata": {},
     "output_type": "display_data"
    },
    {
     "data": {
      "text/plain": "<IPython.core.display.HTML object>",
      "text/html": " View run at <a href='https://wandb.ai/romeu/mip-NeRF2D/runs/mhqww9q2' target=\"_blank\">https://wandb.ai/romeu/mip-NeRF2D/runs/mhqww9q2</a>"
     },
     "metadata": {},
     "output_type": "display_data"
    },
    {
     "name": "stderr",
     "output_type": "stream",
     "text": [
      "\u001B[34m\u001B[1mwandb\u001B[0m:   3 of 3 files downloaded.  \n",
      "\u001B[34m\u001B[1mwandb\u001B[0m:   1 of 1 files downloaded.  \n",
      "epochs: 100%|██████████| 20/20 [00:14<00:00,  1.39it/s]\n"
     ]
    },
    {
     "data": {
      "text/plain": "VBox(children=(Label(value='9.057 MB of 9.057 MB uploaded\\r'), FloatProgress(value=1.0, max=1.0)))",
      "application/vnd.jupyter.widget-view+json": {
       "version_major": 2,
       "version_minor": 0,
       "model_id": "34fa8f1b0d974152ad7dc42faf3bd107"
      }
     },
     "metadata": {},
     "output_type": "display_data"
    },
    {
     "data": {
      "text/plain": "<IPython.core.display.HTML object>",
      "text/html": "<style>\n    table.wandb td:nth-child(1) { padding: 0 10px; text-align: left ; width: auto;} td:nth-child(2) {text-align: left ; width: 100%}\n    .wandb-row { display: flex; flex-direction: row; flex-wrap: wrap; justify-content: flex-start; width: 100% }\n    .wandb-col { display: flex; flex-direction: column; flex-basis: 100%; flex: 1; padding: 10px; }\n    </style>\n<div class=\"wandb-row\"><div class=\"wandb-col\"><h3>Run history:</h3><br/><table class=\"wandb\"><tr><td>epoch</td><td>▁▁▂▂▂▃▃▄▄▄▅▅▅▆▆▇▇▇██</td></tr><tr><td>loss</td><td>█▆▅▄▃▃▃▂▂▂▂▂▂▁▁▁▁▁▁▁▁▁▁▁▁▁▁▁▁▁▁▁▁▁▁▁▁▁▁▁</td></tr><tr><td>render_mse</td><td>█▄▃▂▂▂▂▁▁▁▁▁▁▁▁▁▁▁▁▁</td></tr><tr><td>val_loss</td><td>█▄▃▂▂▂▂▁▁▁▁▁▁▁▁▁▁▁▁▁</td></tr></table><br/></div><div class=\"wandb-col\"><h3>Run summary:</h3><br/><table class=\"wandb\"><tr><td>epoch</td><td>19</td></tr><tr><td>render_mse</td><td>0.01068</td></tr></table><br/></div></div>"
     },
     "metadata": {},
     "output_type": "display_data"
    },
    {
     "data": {
      "text/plain": "<IPython.core.display.HTML object>",
      "text/html": " View run <strong style=\"color:#cdcd00\">dashing-sweep-20</strong> at: <a href='https://wandb.ai/romeu/mip-NeRF2D/runs/mhqww9q2' target=\"_blank\">https://wandb.ai/romeu/mip-NeRF2D/runs/mhqww9q2</a><br/>Synced 5 W&B file(s), 20 media file(s), 0 artifact file(s) and 0 other file(s)"
     },
     "metadata": {},
     "output_type": "display_data"
    },
    {
     "data": {
      "text/plain": "<IPython.core.display.HTML object>",
      "text/html": "Find logs at: <code>./wandb/run-20231127_235208-mhqww9q2/logs</code>"
     },
     "metadata": {},
     "output_type": "display_data"
    },
    {
     "name": "stderr",
     "output_type": "stream",
     "text": [
      "\u001B[34m\u001B[1mwandb\u001B[0m: Agent Starting Run: 3opmtvi5 with config:\n",
      "\u001B[34m\u001B[1mwandb\u001B[0m: \tbatch_size: 1576\n",
      "\u001B[34m\u001B[1mwandb\u001B[0m: \tlearning_rate: 0.00033220264860782557\n",
      "\u001B[34m\u001B[1mwandb\u001B[0m: \tn_freqs: 24\n"
     ]
    },
    {
     "data": {
      "text/plain": "<IPython.core.display.HTML object>",
      "text/html": "Tracking run with wandb version 0.16.0"
     },
     "metadata": {},
     "output_type": "display_data"
    },
    {
     "data": {
      "text/plain": "<IPython.core.display.HTML object>",
      "text/html": "Run data is saved locally in <code>/home/jorge/fun/mip-NeRF2D/notebooks/wandb/run-20231127_235239-3opmtvi5</code>"
     },
     "metadata": {},
     "output_type": "display_data"
    },
    {
     "data": {
      "text/plain": "<IPython.core.display.HTML object>",
      "text/html": "Syncing run <strong><a href='https://wandb.ai/romeu/mip-NeRF2D/runs/3opmtvi5' target=\"_blank\">silver-sweep-21</a></strong> to <a href='https://wandb.ai/romeu/mip-NeRF2D' target=\"_blank\">Weights & Biases</a> (<a href='https://wandb.me/run' target=\"_blank\">docs</a>)<br/>Sweep page: <a href='https://wandb.ai/romeu/mip-NeRF2D/sweeps/684ri139' target=\"_blank\">https://wandb.ai/romeu/mip-NeRF2D/sweeps/684ri139</a>"
     },
     "metadata": {},
     "output_type": "display_data"
    },
    {
     "data": {
      "text/plain": "<IPython.core.display.HTML object>",
      "text/html": " View project at <a href='https://wandb.ai/romeu/mip-NeRF2D' target=\"_blank\">https://wandb.ai/romeu/mip-NeRF2D</a>"
     },
     "metadata": {},
     "output_type": "display_data"
    },
    {
     "data": {
      "text/plain": "<IPython.core.display.HTML object>",
      "text/html": " View sweep at <a href='https://wandb.ai/romeu/mip-NeRF2D/sweeps/684ri139' target=\"_blank\">https://wandb.ai/romeu/mip-NeRF2D/sweeps/684ri139</a>"
     },
     "metadata": {},
     "output_type": "display_data"
    },
    {
     "data": {
      "text/plain": "<IPython.core.display.HTML object>",
      "text/html": " View run at <a href='https://wandb.ai/romeu/mip-NeRF2D/runs/3opmtvi5' target=\"_blank\">https://wandb.ai/romeu/mip-NeRF2D/runs/3opmtvi5</a>"
     },
     "metadata": {},
     "output_type": "display_data"
    },
    {
     "name": "stderr",
     "output_type": "stream",
     "text": [
      "\u001B[34m\u001B[1mwandb\u001B[0m:   3 of 3 files downloaded.  \n",
      "\u001B[34m\u001B[1mwandb\u001B[0m:   1 of 1 files downloaded.  \n",
      "epochs: 100%|██████████| 20/20 [00:14<00:00,  1.38it/s]\n"
     ]
    },
    {
     "data": {
      "text/plain": "VBox(children=(Label(value='8.866 MB of 9.408 MB uploaded\\r'), FloatProgress(value=0.9423525318897501, max=1.0…",
      "application/vnd.jupyter.widget-view+json": {
       "version_major": 2,
       "version_minor": 0,
       "model_id": "95022ce5a8d345f5b00ad7870c152b1c"
      }
     },
     "metadata": {},
     "output_type": "display_data"
    },
    {
     "data": {
      "text/plain": "<IPython.core.display.HTML object>",
      "text/html": "<style>\n    table.wandb td:nth-child(1) { padding: 0 10px; text-align: left ; width: auto;} td:nth-child(2) {text-align: left ; width: 100%}\n    .wandb-row { display: flex; flex-direction: row; flex-wrap: wrap; justify-content: flex-start; width: 100% }\n    .wandb-col { display: flex; flex-direction: column; flex-basis: 100%; flex: 1; padding: 10px; }\n    </style>\n<div class=\"wandb-row\"><div class=\"wandb-col\"><h3>Run history:</h3><br/><table class=\"wandb\"><tr><td>epoch</td><td>▁▁▂▂▂▃▃▄▄▄▅▅▅▆▆▇▇▇██</td></tr><tr><td>loss</td><td>███▇▇▇▇▆▅▅▅▅▅▄▅▄▄▄▄▃▄▃▃▃▃▃▃▃▃▃▂▂▂▂▂▂▂▂▂▁</td></tr><tr><td>render_mse</td><td>██▇▅▅▄▄▃▃▃▂▂▂▂▂▁▁▁▁▁</td></tr><tr><td>val_loss</td><td>██▆▅▄▄▄▃▃▂▂▂▂▂▂▁▁▁▁▁</td></tr></table><br/></div><div class=\"wandb-col\"><h3>Run summary:</h3><br/><table class=\"wandb\"><tr><td>epoch</td><td>19</td></tr><tr><td>render_mse</td><td>0.03485</td></tr></table><br/></div></div>"
     },
     "metadata": {},
     "output_type": "display_data"
    },
    {
     "data": {
      "text/plain": "<IPython.core.display.HTML object>",
      "text/html": " View run <strong style=\"color:#cdcd00\">silver-sweep-21</strong> at: <a href='https://wandb.ai/romeu/mip-NeRF2D/runs/3opmtvi5' target=\"_blank\">https://wandb.ai/romeu/mip-NeRF2D/runs/3opmtvi5</a><br/>Synced 5 W&B file(s), 20 media file(s), 0 artifact file(s) and 0 other file(s)"
     },
     "metadata": {},
     "output_type": "display_data"
    },
    {
     "data": {
      "text/plain": "<IPython.core.display.HTML object>",
      "text/html": "Find logs at: <code>./wandb/run-20231127_235239-3opmtvi5/logs</code>"
     },
     "metadata": {},
     "output_type": "display_data"
    },
    {
     "name": "stderr",
     "output_type": "stream",
     "text": [
      "\u001B[34m\u001B[1mwandb\u001B[0m: Agent Starting Run: wb8wcyg1 with config:\n",
      "\u001B[34m\u001B[1mwandb\u001B[0m: \tbatch_size: 2352\n",
      "\u001B[34m\u001B[1mwandb\u001B[0m: \tlearning_rate: 0.004255544302550754\n",
      "\u001B[34m\u001B[1mwandb\u001B[0m: \tn_freqs: 14\n"
     ]
    },
    {
     "data": {
      "text/plain": "<IPython.core.display.HTML object>",
      "text/html": "Tracking run with wandb version 0.16.0"
     },
     "metadata": {},
     "output_type": "display_data"
    },
    {
     "data": {
      "text/plain": "<IPython.core.display.HTML object>",
      "text/html": "Run data is saved locally in <code>/home/jorge/fun/mip-NeRF2D/notebooks/wandb/run-20231127_235310-wb8wcyg1</code>"
     },
     "metadata": {},
     "output_type": "display_data"
    },
    {
     "data": {
      "text/plain": "<IPython.core.display.HTML object>",
      "text/html": "Syncing run <strong><a href='https://wandb.ai/romeu/mip-NeRF2D/runs/wb8wcyg1' target=\"_blank\">pretty-sweep-22</a></strong> to <a href='https://wandb.ai/romeu/mip-NeRF2D' target=\"_blank\">Weights & Biases</a> (<a href='https://wandb.me/run' target=\"_blank\">docs</a>)<br/>Sweep page: <a href='https://wandb.ai/romeu/mip-NeRF2D/sweeps/684ri139' target=\"_blank\">https://wandb.ai/romeu/mip-NeRF2D/sweeps/684ri139</a>"
     },
     "metadata": {},
     "output_type": "display_data"
    },
    {
     "data": {
      "text/plain": "<IPython.core.display.HTML object>",
      "text/html": " View project at <a href='https://wandb.ai/romeu/mip-NeRF2D' target=\"_blank\">https://wandb.ai/romeu/mip-NeRF2D</a>"
     },
     "metadata": {},
     "output_type": "display_data"
    },
    {
     "data": {
      "text/plain": "<IPython.core.display.HTML object>",
      "text/html": " View sweep at <a href='https://wandb.ai/romeu/mip-NeRF2D/sweeps/684ri139' target=\"_blank\">https://wandb.ai/romeu/mip-NeRF2D/sweeps/684ri139</a>"
     },
     "metadata": {},
     "output_type": "display_data"
    },
    {
     "data": {
      "text/plain": "<IPython.core.display.HTML object>",
      "text/html": " View run at <a href='https://wandb.ai/romeu/mip-NeRF2D/runs/wb8wcyg1' target=\"_blank\">https://wandb.ai/romeu/mip-NeRF2D/runs/wb8wcyg1</a>"
     },
     "metadata": {},
     "output_type": "display_data"
    },
    {
     "name": "stderr",
     "output_type": "stream",
     "text": [
      "\u001B[34m\u001B[1mwandb\u001B[0m:   3 of 3 files downloaded.  \n",
      "\u001B[34m\u001B[1mwandb\u001B[0m:   1 of 1 files downloaded.  \n",
      "epochs: 100%|██████████| 20/20 [00:14<00:00,  1.34it/s]\n"
     ]
    },
    {
     "data": {
      "text/plain": "VBox(children=(Label(value='7.616 MB of 8.038 MB uploaded\\r'), FloatProgress(value=0.947537700247805, max=1.0)…",
      "application/vnd.jupyter.widget-view+json": {
       "version_major": 2,
       "version_minor": 0,
       "model_id": "cf99ceb3582447608a7822bf5cf38201"
      }
     },
     "metadata": {},
     "output_type": "display_data"
    },
    {
     "data": {
      "text/plain": "<IPython.core.display.HTML object>",
      "text/html": "<style>\n    table.wandb td:nth-child(1) { padding: 0 10px; text-align: left ; width: auto;} td:nth-child(2) {text-align: left ; width: 100%}\n    .wandb-row { display: flex; flex-direction: row; flex-wrap: wrap; justify-content: flex-start; width: 100% }\n    .wandb-col { display: flex; flex-direction: column; flex-basis: 100%; flex: 1; padding: 10px; }\n    </style>\n<div class=\"wandb-row\"><div class=\"wandb-col\"><h3>Run history:</h3><br/><table class=\"wandb\"><tr><td>epoch</td><td>▁▁▂▂▂▃▃▄▄▄▅▅▅▆▆▇▇▇██</td></tr><tr><td>loss</td><td>██▆▅▅▅▄▄▃▃▃▂▂▂▂▂▂▂▁▁▂▂▁▁▁▁▁▁▁▁▁▁▁▁▁▁▁▁▁▁</td></tr><tr><td>render_mse</td><td>█▇▆▄▃▃▂▂▂▁▁▁▁▁▁▁▁▁▁▁</td></tr><tr><td>val_loss</td><td>█▇▆▄▃▃▂▂▂▁▁▁▁▁▁▁▁▁▁▁</td></tr></table><br/></div><div class=\"wandb-col\"><h3>Run summary:</h3><br/><table class=\"wandb\"><tr><td>epoch</td><td>19</td></tr><tr><td>render_mse</td><td>0.01111</td></tr></table><br/></div></div>"
     },
     "metadata": {},
     "output_type": "display_data"
    },
    {
     "data": {
      "text/plain": "<IPython.core.display.HTML object>",
      "text/html": " View run <strong style=\"color:#cdcd00\">pretty-sweep-22</strong> at: <a href='https://wandb.ai/romeu/mip-NeRF2D/runs/wb8wcyg1' target=\"_blank\">https://wandb.ai/romeu/mip-NeRF2D/runs/wb8wcyg1</a><br/>Synced 5 W&B file(s), 20 media file(s), 0 artifact file(s) and 0 other file(s)"
     },
     "metadata": {},
     "output_type": "display_data"
    },
    {
     "data": {
      "text/plain": "<IPython.core.display.HTML object>",
      "text/html": "Find logs at: <code>./wandb/run-20231127_235310-wb8wcyg1/logs</code>"
     },
     "metadata": {},
     "output_type": "display_data"
    },
    {
     "name": "stderr",
     "output_type": "stream",
     "text": [
      "\u001B[34m\u001B[1mwandb\u001B[0m: Agent Starting Run: 69l3zld9 with config:\n",
      "\u001B[34m\u001B[1mwandb\u001B[0m: \tbatch_size: 1264\n",
      "\u001B[34m\u001B[1mwandb\u001B[0m: \tlearning_rate: 0.0024841700255488243\n",
      "\u001B[34m\u001B[1mwandb\u001B[0m: \tn_freqs: 17\n"
     ]
    },
    {
     "data": {
      "text/plain": "<IPython.core.display.HTML object>",
      "text/html": "Tracking run with wandb version 0.16.0"
     },
     "metadata": {},
     "output_type": "display_data"
    },
    {
     "data": {
      "text/plain": "<IPython.core.display.HTML object>",
      "text/html": "Run data is saved locally in <code>/home/jorge/fun/mip-NeRF2D/notebooks/wandb/run-20231127_235342-69l3zld9</code>"
     },
     "metadata": {},
     "output_type": "display_data"
    },
    {
     "data": {
      "text/plain": "<IPython.core.display.HTML object>",
      "text/html": "Syncing run <strong><a href='https://wandb.ai/romeu/mip-NeRF2D/runs/69l3zld9' target=\"_blank\">hearty-sweep-23</a></strong> to <a href='https://wandb.ai/romeu/mip-NeRF2D' target=\"_blank\">Weights & Biases</a> (<a href='https://wandb.me/run' target=\"_blank\">docs</a>)<br/>Sweep page: <a href='https://wandb.ai/romeu/mip-NeRF2D/sweeps/684ri139' target=\"_blank\">https://wandb.ai/romeu/mip-NeRF2D/sweeps/684ri139</a>"
     },
     "metadata": {},
     "output_type": "display_data"
    },
    {
     "data": {
      "text/plain": "<IPython.core.display.HTML object>",
      "text/html": " View project at <a href='https://wandb.ai/romeu/mip-NeRF2D' target=\"_blank\">https://wandb.ai/romeu/mip-NeRF2D</a>"
     },
     "metadata": {},
     "output_type": "display_data"
    },
    {
     "data": {
      "text/plain": "<IPython.core.display.HTML object>",
      "text/html": " View sweep at <a href='https://wandb.ai/romeu/mip-NeRF2D/sweeps/684ri139' target=\"_blank\">https://wandb.ai/romeu/mip-NeRF2D/sweeps/684ri139</a>"
     },
     "metadata": {},
     "output_type": "display_data"
    },
    {
     "data": {
      "text/plain": "<IPython.core.display.HTML object>",
      "text/html": " View run at <a href='https://wandb.ai/romeu/mip-NeRF2D/runs/69l3zld9' target=\"_blank\">https://wandb.ai/romeu/mip-NeRF2D/runs/69l3zld9</a>"
     },
     "metadata": {},
     "output_type": "display_data"
    },
    {
     "name": "stderr",
     "output_type": "stream",
     "text": [
      "\u001B[34m\u001B[1mwandb\u001B[0m:   3 of 3 files downloaded.  \n",
      "\u001B[34m\u001B[1mwandb\u001B[0m:   1 of 1 files downloaded.  \n",
      "epochs: 100%|██████████| 20/20 [00:14<00:00,  1.38it/s]\n"
     ]
    },
    {
     "data": {
      "text/plain": "VBox(children=(Label(value='8.896 MB of 8.896 MB uploaded\\r'), FloatProgress(value=1.0, max=1.0)))",
      "application/vnd.jupyter.widget-view+json": {
       "version_major": 2,
       "version_minor": 0,
       "model_id": "00e964bf4827420ea1f41da035e6bb15"
      }
     },
     "metadata": {},
     "output_type": "display_data"
    },
    {
     "data": {
      "text/plain": "<IPython.core.display.HTML object>",
      "text/html": "<style>\n    table.wandb td:nth-child(1) { padding: 0 10px; text-align: left ; width: auto;} td:nth-child(2) {text-align: left ; width: 100%}\n    .wandb-row { display: flex; flex-direction: row; flex-wrap: wrap; justify-content: flex-start; width: 100% }\n    .wandb-col { display: flex; flex-direction: column; flex-basis: 100%; flex: 1; padding: 10px; }\n    </style>\n<div class=\"wandb-row\"><div class=\"wandb-col\"><h3>Run history:</h3><br/><table class=\"wandb\"><tr><td>epoch</td><td>▁▁▂▂▂▃▃▄▄▄▅▅▅▆▆▇▇▇██</td></tr><tr><td>loss</td><td>█▇▅▅▄▄▃▃▂▂▂▂▂▂▂▂▁▁▁▁▁▁▁▁▁▁▁▁▁▁▁▁▁▁▁▁▁▁▁▁</td></tr><tr><td>render_mse</td><td>█▆▄▃▃▂▂▂▁▁▁▁▁▁▁▁▁▁▁▁</td></tr><tr><td>val_loss</td><td>█▆▄▃▃▂▂▂▂▁▁▂▁▁▁▁▁▁▁▁</td></tr></table><br/></div><div class=\"wandb-col\"><h3>Run summary:</h3><br/><table class=\"wandb\"><tr><td>epoch</td><td>19</td></tr><tr><td>render_mse</td><td>0.01098</td></tr></table><br/></div></div>"
     },
     "metadata": {},
     "output_type": "display_data"
    },
    {
     "data": {
      "text/plain": "<IPython.core.display.HTML object>",
      "text/html": " View run <strong style=\"color:#cdcd00\">hearty-sweep-23</strong> at: <a href='https://wandb.ai/romeu/mip-NeRF2D/runs/69l3zld9' target=\"_blank\">https://wandb.ai/romeu/mip-NeRF2D/runs/69l3zld9</a><br/>Synced 5 W&B file(s), 20 media file(s), 0 artifact file(s) and 0 other file(s)"
     },
     "metadata": {},
     "output_type": "display_data"
    },
    {
     "data": {
      "text/plain": "<IPython.core.display.HTML object>",
      "text/html": "Find logs at: <code>./wandb/run-20231127_235342-69l3zld9/logs</code>"
     },
     "metadata": {},
     "output_type": "display_data"
    },
    {
     "name": "stderr",
     "output_type": "stream",
     "text": [
      "\u001B[34m\u001B[1mwandb\u001B[0m: Agent Starting Run: iwei678r with config:\n",
      "\u001B[34m\u001B[1mwandb\u001B[0m: \tbatch_size: 1848\n",
      "\u001B[34m\u001B[1mwandb\u001B[0m: \tlearning_rate: 0.004177258893258288\n",
      "\u001B[34m\u001B[1mwandb\u001B[0m: \tn_freqs: 28\n"
     ]
    },
    {
     "data": {
      "text/plain": "<IPython.core.display.HTML object>",
      "text/html": "Tracking run with wandb version 0.16.0"
     },
     "metadata": {},
     "output_type": "display_data"
    },
    {
     "data": {
      "text/plain": "<IPython.core.display.HTML object>",
      "text/html": "Run data is saved locally in <code>/home/jorge/fun/mip-NeRF2D/notebooks/wandb/run-20231127_235418-iwei678r</code>"
     },
     "metadata": {},
     "output_type": "display_data"
    },
    {
     "data": {
      "text/plain": "<IPython.core.display.HTML object>",
      "text/html": "Syncing run <strong><a href='https://wandb.ai/romeu/mip-NeRF2D/runs/iwei678r' target=\"_blank\">trim-sweep-24</a></strong> to <a href='https://wandb.ai/romeu/mip-NeRF2D' target=\"_blank\">Weights & Biases</a> (<a href='https://wandb.me/run' target=\"_blank\">docs</a>)<br/>Sweep page: <a href='https://wandb.ai/romeu/mip-NeRF2D/sweeps/684ri139' target=\"_blank\">https://wandb.ai/romeu/mip-NeRF2D/sweeps/684ri139</a>"
     },
     "metadata": {},
     "output_type": "display_data"
    },
    {
     "data": {
      "text/plain": "<IPython.core.display.HTML object>",
      "text/html": " View project at <a href='https://wandb.ai/romeu/mip-NeRF2D' target=\"_blank\">https://wandb.ai/romeu/mip-NeRF2D</a>"
     },
     "metadata": {},
     "output_type": "display_data"
    },
    {
     "data": {
      "text/plain": "<IPython.core.display.HTML object>",
      "text/html": " View sweep at <a href='https://wandb.ai/romeu/mip-NeRF2D/sweeps/684ri139' target=\"_blank\">https://wandb.ai/romeu/mip-NeRF2D/sweeps/684ri139</a>"
     },
     "metadata": {},
     "output_type": "display_data"
    },
    {
     "data": {
      "text/plain": "<IPython.core.display.HTML object>",
      "text/html": " View run at <a href='https://wandb.ai/romeu/mip-NeRF2D/runs/iwei678r' target=\"_blank\">https://wandb.ai/romeu/mip-NeRF2D/runs/iwei678r</a>"
     },
     "metadata": {},
     "output_type": "display_data"
    },
    {
     "name": "stderr",
     "output_type": "stream",
     "text": [
      "\u001B[34m\u001B[1mwandb\u001B[0m:   3 of 3 files downloaded.  \n",
      "\u001B[34m\u001B[1mwandb\u001B[0m:   1 of 1 files downloaded.  \n",
      "epochs: 100%|██████████| 20/20 [00:16<00:00,  1.23it/s]\n"
     ]
    },
    {
     "data": {
      "text/plain": "VBox(children=(Label(value='10.095 MB of 10.095 MB uploaded\\r'), FloatProgress(value=1.0, max=1.0)))",
      "application/vnd.jupyter.widget-view+json": {
       "version_major": 2,
       "version_minor": 0,
       "model_id": "3ff88b59215b47f79aff15fd3085cc71"
      }
     },
     "metadata": {},
     "output_type": "display_data"
    },
    {
     "data": {
      "text/plain": "<IPython.core.display.HTML object>",
      "text/html": "<style>\n    table.wandb td:nth-child(1) { padding: 0 10px; text-align: left ; width: auto;} td:nth-child(2) {text-align: left ; width: 100%}\n    .wandb-row { display: flex; flex-direction: row; flex-wrap: wrap; justify-content: flex-start; width: 100% }\n    .wandb-col { display: flex; flex-direction: column; flex-basis: 100%; flex: 1; padding: 10px; }\n    </style>\n<div class=\"wandb-row\"><div class=\"wandb-col\"><h3>Run history:</h3><br/><table class=\"wandb\"><tr><td>epoch</td><td>▁▁▂▂▂▃▃▄▄▄▅▅▅▆▆▇▇▇██</td></tr><tr><td>loss</td><td>█▇▆▅▅▄▄▃▃▂▂▂▂▂▂▂▂▂▂▁▁▁▁▁▁▁▁▁▂▁▁▁▁▁▁▁▁▁▁▁</td></tr><tr><td>render_mse</td><td>█▆▄▃▃▂▂▂▂▂▂▂▁▁▁▁▁▁▁▁</td></tr><tr><td>val_loss</td><td>█▆▄▃▃▂▂▂▂▂▂▂▁▁▁▁▁▁▁▁</td></tr></table><br/></div><div class=\"wandb-col\"><h3>Run summary:</h3><br/><table class=\"wandb\"><tr><td>epoch</td><td>19</td></tr><tr><td>render_mse</td><td>0.01628</td></tr></table><br/></div></div>"
     },
     "metadata": {},
     "output_type": "display_data"
    },
    {
     "data": {
      "text/plain": "<IPython.core.display.HTML object>",
      "text/html": " View run <strong style=\"color:#cdcd00\">trim-sweep-24</strong> at: <a href='https://wandb.ai/romeu/mip-NeRF2D/runs/iwei678r' target=\"_blank\">https://wandb.ai/romeu/mip-NeRF2D/runs/iwei678r</a><br/>Synced 5 W&B file(s), 20 media file(s), 0 artifact file(s) and 0 other file(s)"
     },
     "metadata": {},
     "output_type": "display_data"
    },
    {
     "data": {
      "text/plain": "<IPython.core.display.HTML object>",
      "text/html": "Find logs at: <code>./wandb/run-20231127_235418-iwei678r/logs</code>"
     },
     "metadata": {},
     "output_type": "display_data"
    },
    {
     "name": "stderr",
     "output_type": "stream",
     "text": [
      "\u001B[34m\u001B[1mwandb\u001B[0m: Agent Starting Run: v1vkrzlb with config:\n",
      "\u001B[34m\u001B[1mwandb\u001B[0m: \tbatch_size: 4000\n",
      "\u001B[34m\u001B[1mwandb\u001B[0m: \tlearning_rate: 0.0016124738765907645\n",
      "\u001B[34m\u001B[1mwandb\u001B[0m: \tn_freqs: 6\n"
     ]
    },
    {
     "data": {
      "text/plain": "<IPython.core.display.HTML object>",
      "text/html": "Tracking run with wandb version 0.16.0"
     },
     "metadata": {},
     "output_type": "display_data"
    },
    {
     "data": {
      "text/plain": "<IPython.core.display.HTML object>",
      "text/html": "Run data is saved locally in <code>/home/jorge/fun/mip-NeRF2D/notebooks/wandb/run-20231127_235450-v1vkrzlb</code>"
     },
     "metadata": {},
     "output_type": "display_data"
    },
    {
     "data": {
      "text/plain": "<IPython.core.display.HTML object>",
      "text/html": "Syncing run <strong><a href='https://wandb.ai/romeu/mip-NeRF2D/runs/v1vkrzlb' target=\"_blank\">dark-sweep-25</a></strong> to <a href='https://wandb.ai/romeu/mip-NeRF2D' target=\"_blank\">Weights & Biases</a> (<a href='https://wandb.me/run' target=\"_blank\">docs</a>)<br/>Sweep page: <a href='https://wandb.ai/romeu/mip-NeRF2D/sweeps/684ri139' target=\"_blank\">https://wandb.ai/romeu/mip-NeRF2D/sweeps/684ri139</a>"
     },
     "metadata": {},
     "output_type": "display_data"
    },
    {
     "data": {
      "text/plain": "<IPython.core.display.HTML object>",
      "text/html": " View project at <a href='https://wandb.ai/romeu/mip-NeRF2D' target=\"_blank\">https://wandb.ai/romeu/mip-NeRF2D</a>"
     },
     "metadata": {},
     "output_type": "display_data"
    },
    {
     "data": {
      "text/plain": "<IPython.core.display.HTML object>",
      "text/html": " View sweep at <a href='https://wandb.ai/romeu/mip-NeRF2D/sweeps/684ri139' target=\"_blank\">https://wandb.ai/romeu/mip-NeRF2D/sweeps/684ri139</a>"
     },
     "metadata": {},
     "output_type": "display_data"
    },
    {
     "data": {
      "text/plain": "<IPython.core.display.HTML object>",
      "text/html": " View run at <a href='https://wandb.ai/romeu/mip-NeRF2D/runs/v1vkrzlb' target=\"_blank\">https://wandb.ai/romeu/mip-NeRF2D/runs/v1vkrzlb</a>"
     },
     "metadata": {},
     "output_type": "display_data"
    },
    {
     "name": "stderr",
     "output_type": "stream",
     "text": [
      "\u001B[34m\u001B[1mwandb\u001B[0m:   3 of 3 files downloaded.  \n",
      "\u001B[34m\u001B[1mwandb\u001B[0m:   1 of 1 files downloaded.  \n",
      "epochs: 100%|██████████| 20/20 [00:14<00:00,  1.34it/s]\n"
     ]
    },
    {
     "data": {
      "text/plain": "VBox(children=(Label(value='3.383 MB of 3.383 MB uploaded\\r'), FloatProgress(value=1.0, max=1.0)))",
      "application/vnd.jupyter.widget-view+json": {
       "version_major": 2,
       "version_minor": 0,
       "model_id": "6cc39428e9e9404bbe0f644e9f6e7d3d"
      }
     },
     "metadata": {},
     "output_type": "display_data"
    },
    {
     "data": {
      "text/plain": "<IPython.core.display.HTML object>",
      "text/html": "<style>\n    table.wandb td:nth-child(1) { padding: 0 10px; text-align: left ; width: auto;} td:nth-child(2) {text-align: left ; width: 100%}\n    .wandb-row { display: flex; flex-direction: row; flex-wrap: wrap; justify-content: flex-start; width: 100% }\n    .wandb-col { display: flex; flex-direction: column; flex-basis: 100%; flex: 1; padding: 10px; }\n    </style>\n<div class=\"wandb-row\"><div class=\"wandb-col\"><h3>Run history:</h3><br/><table class=\"wandb\"><tr><td>epoch</td><td>▁▁▂▂▂▃▃▄▄▄▅▅▅▆▆▇▇▇██</td></tr><tr><td>loss</td><td>█▇▇▆▅▅▄▄▃▃▃▃▂▂▂▂▂▂▂▂▂▂▁▂▁▁▁▁▁▁▁▁▁▁▁▁▁▁▁▁</td></tr><tr><td>render_mse</td><td>█▆▅▄▃▃▂▂▂▂▂▂▁▁▁▁▁▁▁▁</td></tr><tr><td>val_loss</td><td>█▆▅▄▃▃▂▂▂▂▂▂▁▁▁▁▁▁▁▁</td></tr></table><br/></div><div class=\"wandb-col\"><h3>Run summary:</h3><br/><table class=\"wandb\"><tr><td>epoch</td><td>19</td></tr><tr><td>render_mse</td><td>0.01389</td></tr></table><br/></div></div>"
     },
     "metadata": {},
     "output_type": "display_data"
    },
    {
     "data": {
      "text/plain": "<IPython.core.display.HTML object>",
      "text/html": " View run <strong style=\"color:#cdcd00\">dark-sweep-25</strong> at: <a href='https://wandb.ai/romeu/mip-NeRF2D/runs/v1vkrzlb' target=\"_blank\">https://wandb.ai/romeu/mip-NeRF2D/runs/v1vkrzlb</a><br/>Synced 5 W&B file(s), 20 media file(s), 0 artifact file(s) and 0 other file(s)"
     },
     "metadata": {},
     "output_type": "display_data"
    },
    {
     "data": {
      "text/plain": "<IPython.core.display.HTML object>",
      "text/html": "Find logs at: <code>./wandb/run-20231127_235450-v1vkrzlb/logs</code>"
     },
     "metadata": {},
     "output_type": "display_data"
    },
    {
     "name": "stderr",
     "output_type": "stream",
     "text": [
      "\u001B[34m\u001B[1mwandb\u001B[0m: Agent Starting Run: mo0gperg with config:\n",
      "\u001B[34m\u001B[1mwandb\u001B[0m: \tbatch_size: 5416\n",
      "\u001B[34m\u001B[1mwandb\u001B[0m: \tlearning_rate: 0.003573397597889955\n",
      "\u001B[34m\u001B[1mwandb\u001B[0m: \tn_freqs: 30\n"
     ]
    },
    {
     "data": {
      "text/plain": "<IPython.core.display.HTML object>",
      "text/html": "Tracking run with wandb version 0.16.0"
     },
     "metadata": {},
     "output_type": "display_data"
    },
    {
     "data": {
      "text/plain": "<IPython.core.display.HTML object>",
      "text/html": "Run data is saved locally in <code>/home/jorge/fun/mip-NeRF2D/notebooks/wandb/run-20231127_235521-mo0gperg</code>"
     },
     "metadata": {},
     "output_type": "display_data"
    },
    {
     "data": {
      "text/plain": "<IPython.core.display.HTML object>",
      "text/html": "Syncing run <strong><a href='https://wandb.ai/romeu/mip-NeRF2D/runs/mo0gperg' target=\"_blank\">glamorous-sweep-26</a></strong> to <a href='https://wandb.ai/romeu/mip-NeRF2D' target=\"_blank\">Weights & Biases</a> (<a href='https://wandb.me/run' target=\"_blank\">docs</a>)<br/>Sweep page: <a href='https://wandb.ai/romeu/mip-NeRF2D/sweeps/684ri139' target=\"_blank\">https://wandb.ai/romeu/mip-NeRF2D/sweeps/684ri139</a>"
     },
     "metadata": {},
     "output_type": "display_data"
    },
    {
     "data": {
      "text/plain": "<IPython.core.display.HTML object>",
      "text/html": " View project at <a href='https://wandb.ai/romeu/mip-NeRF2D' target=\"_blank\">https://wandb.ai/romeu/mip-NeRF2D</a>"
     },
     "metadata": {},
     "output_type": "display_data"
    },
    {
     "data": {
      "text/plain": "<IPython.core.display.HTML object>",
      "text/html": " View sweep at <a href='https://wandb.ai/romeu/mip-NeRF2D/sweeps/684ri139' target=\"_blank\">https://wandb.ai/romeu/mip-NeRF2D/sweeps/684ri139</a>"
     },
     "metadata": {},
     "output_type": "display_data"
    },
    {
     "data": {
      "text/plain": "<IPython.core.display.HTML object>",
      "text/html": " View run at <a href='https://wandb.ai/romeu/mip-NeRF2D/runs/mo0gperg' target=\"_blank\">https://wandb.ai/romeu/mip-NeRF2D/runs/mo0gperg</a>"
     },
     "metadata": {},
     "output_type": "display_data"
    },
    {
     "name": "stderr",
     "output_type": "stream",
     "text": [
      "\u001B[34m\u001B[1mwandb\u001B[0m:   3 of 3 files downloaded.  \n",
      "\u001B[34m\u001B[1mwandb\u001B[0m:   1 of 1 files downloaded.  \n",
      "epochs: 100%|██████████| 20/20 [00:16<00:00,  1.23it/s]\n"
     ]
    },
    {
     "data": {
      "text/plain": "VBox(children=(Label(value='9.878 MB of 9.878 MB uploaded\\r'), FloatProgress(value=1.0, max=1.0)))",
      "application/vnd.jupyter.widget-view+json": {
       "version_major": 2,
       "version_minor": 0,
       "model_id": "30cbca4f98d24316bd5a05ad764cbb10"
      }
     },
     "metadata": {},
     "output_type": "display_data"
    },
    {
     "data": {
      "text/plain": "<IPython.core.display.HTML object>",
      "text/html": "<style>\n    table.wandb td:nth-child(1) { padding: 0 10px; text-align: left ; width: auto;} td:nth-child(2) {text-align: left ; width: 100%}\n    .wandb-row { display: flex; flex-direction: row; flex-wrap: wrap; justify-content: flex-start; width: 100% }\n    .wandb-col { display: flex; flex-direction: column; flex-basis: 100%; flex: 1; padding: 10px; }\n    </style>\n<div class=\"wandb-row\"><div class=\"wandb-col\"><h3>Run history:</h3><br/><table class=\"wandb\"><tr><td>epoch</td><td>▁▁▂▂▂▃▃▄▄▄▅▅▅▆▆▇▇▇██</td></tr><tr><td>loss</td><td>██▇▇▆▆▅▅▅▅▄▄▄▃▃▃▃▃▃▂▂▂▂▂▂▂▂▂▂▂▂▂▂▂▂▂▁▁▁▁</td></tr><tr><td>render_mse</td><td>█▆▅▅▄▄▃▃▂▂▂▂▂▂▂▁▁▁▁▁</td></tr><tr><td>val_loss</td><td>█▆▅▅▄▄▃▃▂▂▂▂▂▂▂▂▁▁▁▁</td></tr></table><br/></div><div class=\"wandb-col\"><h3>Run summary:</h3><br/><table class=\"wandb\"><tr><td>epoch</td><td>19</td></tr><tr><td>render_mse</td><td>0.02908</td></tr></table><br/></div></div>"
     },
     "metadata": {},
     "output_type": "display_data"
    },
    {
     "data": {
      "text/plain": "<IPython.core.display.HTML object>",
      "text/html": " View run <strong style=\"color:#cdcd00\">glamorous-sweep-26</strong> at: <a href='https://wandb.ai/romeu/mip-NeRF2D/runs/mo0gperg' target=\"_blank\">https://wandb.ai/romeu/mip-NeRF2D/runs/mo0gperg</a><br/>Synced 5 W&B file(s), 20 media file(s), 0 artifact file(s) and 0 other file(s)"
     },
     "metadata": {},
     "output_type": "display_data"
    },
    {
     "data": {
      "text/plain": "<IPython.core.display.HTML object>",
      "text/html": "Find logs at: <code>./wandb/run-20231127_235521-mo0gperg/logs</code>"
     },
     "metadata": {},
     "output_type": "display_data"
    },
    {
     "name": "stderr",
     "output_type": "stream",
     "text": [
      "\u001B[34m\u001B[1mwandb\u001B[0m: Agent Starting Run: ufimz73d with config:\n",
      "\u001B[34m\u001B[1mwandb\u001B[0m: \tbatch_size: 3400\n",
      "\u001B[34m\u001B[1mwandb\u001B[0m: \tlearning_rate: 0.0012670421185262935\n",
      "\u001B[34m\u001B[1mwandb\u001B[0m: \tn_freqs: 16\n"
     ]
    },
    {
     "data": {
      "text/plain": "<IPython.core.display.HTML object>",
      "text/html": "Tracking run with wandb version 0.16.0"
     },
     "metadata": {},
     "output_type": "display_data"
    },
    {
     "data": {
      "text/plain": "<IPython.core.display.HTML object>",
      "text/html": "Run data is saved locally in <code>/home/jorge/fun/mip-NeRF2D/notebooks/wandb/run-20231127_235552-ufimz73d</code>"
     },
     "metadata": {},
     "output_type": "display_data"
    },
    {
     "data": {
      "text/plain": "<IPython.core.display.HTML object>",
      "text/html": "Syncing run <strong><a href='https://wandb.ai/romeu/mip-NeRF2D/runs/ufimz73d' target=\"_blank\">misty-sweep-27</a></strong> to <a href='https://wandb.ai/romeu/mip-NeRF2D' target=\"_blank\">Weights & Biases</a> (<a href='https://wandb.me/run' target=\"_blank\">docs</a>)<br/>Sweep page: <a href='https://wandb.ai/romeu/mip-NeRF2D/sweeps/684ri139' target=\"_blank\">https://wandb.ai/romeu/mip-NeRF2D/sweeps/684ri139</a>"
     },
     "metadata": {},
     "output_type": "display_data"
    },
    {
     "data": {
      "text/plain": "<IPython.core.display.HTML object>",
      "text/html": " View project at <a href='https://wandb.ai/romeu/mip-NeRF2D' target=\"_blank\">https://wandb.ai/romeu/mip-NeRF2D</a>"
     },
     "metadata": {},
     "output_type": "display_data"
    },
    {
     "data": {
      "text/plain": "<IPython.core.display.HTML object>",
      "text/html": " View sweep at <a href='https://wandb.ai/romeu/mip-NeRF2D/sweeps/684ri139' target=\"_blank\">https://wandb.ai/romeu/mip-NeRF2D/sweeps/684ri139</a>"
     },
     "metadata": {},
     "output_type": "display_data"
    },
    {
     "data": {
      "text/plain": "<IPython.core.display.HTML object>",
      "text/html": " View run at <a href='https://wandb.ai/romeu/mip-NeRF2D/runs/ufimz73d' target=\"_blank\">https://wandb.ai/romeu/mip-NeRF2D/runs/ufimz73d</a>"
     },
     "metadata": {},
     "output_type": "display_data"
    },
    {
     "name": "stderr",
     "output_type": "stream",
     "text": [
      "\u001B[34m\u001B[1mwandb\u001B[0m:   3 of 3 files downloaded.  \n",
      "\u001B[34m\u001B[1mwandb\u001B[0m:   1 of 1 files downloaded.  \n",
      "epochs: 100%|██████████| 20/20 [00:15<00:00,  1.27it/s]\n"
     ]
    },
    {
     "data": {
      "text/plain": "VBox(children=(Label(value='8.866 MB of 8.892 MB uploaded\\r'), FloatProgress(value=0.9970416536538323, max=1.0…",
      "application/vnd.jupyter.widget-view+json": {
       "version_major": 2,
       "version_minor": 0,
       "model_id": "f7c5515d47284bbcb385aca1e58041e1"
      }
     },
     "metadata": {},
     "output_type": "display_data"
    },
    {
     "data": {
      "text/plain": "<IPython.core.display.HTML object>",
      "text/html": "<style>\n    table.wandb td:nth-child(1) { padding: 0 10px; text-align: left ; width: auto;} td:nth-child(2) {text-align: left ; width: 100%}\n    .wandb-row { display: flex; flex-direction: row; flex-wrap: wrap; justify-content: flex-start; width: 100% }\n    .wandb-col { display: flex; flex-direction: column; flex-basis: 100%; flex: 1; padding: 10px; }\n    </style>\n<div class=\"wandb-row\"><div class=\"wandb-col\"><h3>Run history:</h3><br/><table class=\"wandb\"><tr><td>epoch</td><td>▁▁▂▂▂▃▃▄▄▄▅▅▅▆▆▇▇▇██</td></tr><tr><td>loss</td><td>██▇▇▆▆▅▅▅▄▄▄▄▄▃▃▃▃▃▃▃▂▂▂▂▂▂▂▂▂▂▂▂▂▁▂▁▁▁▁</td></tr><tr><td>render_mse</td><td>█▇▆▅▄▄▃▃▃▂▂▂▂▂▁▁▁▁▁▁</td></tr><tr><td>val_loss</td><td>█▇▆▅▄▄▃▃▃▂▂▂▂▂▂▁▁▁▁▁</td></tr></table><br/></div><div class=\"wandb-col\"><h3>Run summary:</h3><br/><table class=\"wandb\"><tr><td>epoch</td><td>19</td></tr><tr><td>render_mse</td><td>0.01931</td></tr></table><br/></div></div>"
     },
     "metadata": {},
     "output_type": "display_data"
    },
    {
     "data": {
      "text/plain": "<IPython.core.display.HTML object>",
      "text/html": " View run <strong style=\"color:#cdcd00\">misty-sweep-27</strong> at: <a href='https://wandb.ai/romeu/mip-NeRF2D/runs/ufimz73d' target=\"_blank\">https://wandb.ai/romeu/mip-NeRF2D/runs/ufimz73d</a><br/>Synced 5 W&B file(s), 20 media file(s), 0 artifact file(s) and 0 other file(s)"
     },
     "metadata": {},
     "output_type": "display_data"
    },
    {
     "data": {
      "text/plain": "<IPython.core.display.HTML object>",
      "text/html": "Find logs at: <code>./wandb/run-20231127_235552-ufimz73d/logs</code>"
     },
     "metadata": {},
     "output_type": "display_data"
    },
    {
     "name": "stderr",
     "output_type": "stream",
     "text": [
      "\u001B[34m\u001B[1mwandb\u001B[0m: Agent Starting Run: e12luqxh with config:\n",
      "\u001B[34m\u001B[1mwandb\u001B[0m: \tbatch_size: 1160\n",
      "\u001B[34m\u001B[1mwandb\u001B[0m: \tlearning_rate: 0.0034438472168328705\n",
      "\u001B[34m\u001B[1mwandb\u001B[0m: \tn_freqs: 23\n"
     ]
    },
    {
     "data": {
      "text/plain": "<IPython.core.display.HTML object>",
      "text/html": "Tracking run with wandb version 0.16.0"
     },
     "metadata": {},
     "output_type": "display_data"
    },
    {
     "data": {
      "text/plain": "<IPython.core.display.HTML object>",
      "text/html": "Run data is saved locally in <code>/home/jorge/fun/mip-NeRF2D/notebooks/wandb/run-20231127_235624-e12luqxh</code>"
     },
     "metadata": {},
     "output_type": "display_data"
    },
    {
     "data": {
      "text/plain": "<IPython.core.display.HTML object>",
      "text/html": "Syncing run <strong><a href='https://wandb.ai/romeu/mip-NeRF2D/runs/e12luqxh' target=\"_blank\">lemon-sweep-28</a></strong> to <a href='https://wandb.ai/romeu/mip-NeRF2D' target=\"_blank\">Weights & Biases</a> (<a href='https://wandb.me/run' target=\"_blank\">docs</a>)<br/>Sweep page: <a href='https://wandb.ai/romeu/mip-NeRF2D/sweeps/684ri139' target=\"_blank\">https://wandb.ai/romeu/mip-NeRF2D/sweeps/684ri139</a>"
     },
     "metadata": {},
     "output_type": "display_data"
    },
    {
     "data": {
      "text/plain": "<IPython.core.display.HTML object>",
      "text/html": " View project at <a href='https://wandb.ai/romeu/mip-NeRF2D' target=\"_blank\">https://wandb.ai/romeu/mip-NeRF2D</a>"
     },
     "metadata": {},
     "output_type": "display_data"
    },
    {
     "data": {
      "text/plain": "<IPython.core.display.HTML object>",
      "text/html": " View sweep at <a href='https://wandb.ai/romeu/mip-NeRF2D/sweeps/684ri139' target=\"_blank\">https://wandb.ai/romeu/mip-NeRF2D/sweeps/684ri139</a>"
     },
     "metadata": {},
     "output_type": "display_data"
    },
    {
     "data": {
      "text/plain": "<IPython.core.display.HTML object>",
      "text/html": " View run at <a href='https://wandb.ai/romeu/mip-NeRF2D/runs/e12luqxh' target=\"_blank\">https://wandb.ai/romeu/mip-NeRF2D/runs/e12luqxh</a>"
     },
     "metadata": {},
     "output_type": "display_data"
    },
    {
     "name": "stderr",
     "output_type": "stream",
     "text": [
      "\u001B[34m\u001B[1mwandb\u001B[0m:   3 of 3 files downloaded.  \n",
      "\u001B[34m\u001B[1mwandb\u001B[0m:   1 of 1 files downloaded.  \n",
      "epochs: 100%|██████████| 20/20 [00:16<00:00,  1.18it/s]\n"
     ]
    },
    {
     "data": {
      "text/plain": "VBox(children=(Label(value='9.360 MB of 9.360 MB uploaded\\r'), FloatProgress(value=1.0, max=1.0)))",
      "application/vnd.jupyter.widget-view+json": {
       "version_major": 2,
       "version_minor": 0,
       "model_id": "d880e56612ba48a9a27f3b789e61a623"
      }
     },
     "metadata": {},
     "output_type": "display_data"
    },
    {
     "data": {
      "text/plain": "<IPython.core.display.HTML object>",
      "text/html": "<style>\n    table.wandb td:nth-child(1) { padding: 0 10px; text-align: left ; width: auto;} td:nth-child(2) {text-align: left ; width: 100%}\n    .wandb-row { display: flex; flex-direction: row; flex-wrap: wrap; justify-content: flex-start; width: 100% }\n    .wandb-col { display: flex; flex-direction: column; flex-basis: 100%; flex: 1; padding: 10px; }\n    </style>\n<div class=\"wandb-row\"><div class=\"wandb-col\"><h3>Run history:</h3><br/><table class=\"wandb\"><tr><td>epoch</td><td>▁▁▂▂▂▃▃▄▄▄▅▅▅▆▆▇▇▇██</td></tr><tr><td>loss</td><td>█▇▅▅▄▃▃▃▃▂▂▂▂▂▂▂▂▂▁▁▁▁▁▁▁▁▁▁▁▁▁▁▁▁▁▁▁▁▁▁</td></tr><tr><td>render_mse</td><td>█▆▄▃▃▂▂▂▂▂▂▁▂▁▂▁▁▁▁▁</td></tr><tr><td>val_loss</td><td>█▆▄▃▃▂▂▂▂▂▂▁▂▁▂▁▁▁▁▁</td></tr></table><br/></div><div class=\"wandb-col\"><h3>Run summary:</h3><br/><table class=\"wandb\"><tr><td>epoch</td><td>19</td></tr><tr><td>render_mse</td><td>0.01268</td></tr></table><br/></div></div>"
     },
     "metadata": {},
     "output_type": "display_data"
    },
    {
     "data": {
      "text/plain": "<IPython.core.display.HTML object>",
      "text/html": " View run <strong style=\"color:#cdcd00\">lemon-sweep-28</strong> at: <a href='https://wandb.ai/romeu/mip-NeRF2D/runs/e12luqxh' target=\"_blank\">https://wandb.ai/romeu/mip-NeRF2D/runs/e12luqxh</a><br/>Synced 5 W&B file(s), 20 media file(s), 0 artifact file(s) and 0 other file(s)"
     },
     "metadata": {},
     "output_type": "display_data"
    },
    {
     "data": {
      "text/plain": "<IPython.core.display.HTML object>",
      "text/html": "Find logs at: <code>./wandb/run-20231127_235624-e12luqxh/logs</code>"
     },
     "metadata": {},
     "output_type": "display_data"
    },
    {
     "name": "stderr",
     "output_type": "stream",
     "text": [
      "\u001B[34m\u001B[1mwandb\u001B[0m: Sweep Agent: Waiting for job.\n",
      "\u001B[34m\u001B[1mwandb\u001B[0m: Job received.\n",
      "\u001B[34m\u001B[1mwandb\u001B[0m: Agent Starting Run: 844e96tt with config:\n",
      "\u001B[34m\u001B[1mwandb\u001B[0m: \tbatch_size: 1824\n",
      "\u001B[34m\u001B[1mwandb\u001B[0m: \tlearning_rate: 0.002631714620966633\n",
      "\u001B[34m\u001B[1mwandb\u001B[0m: \tn_freqs: 27\n"
     ]
    },
    {
     "data": {
      "text/plain": "<IPython.core.display.HTML object>",
      "text/html": "Tracking run with wandb version 0.16.0"
     },
     "metadata": {},
     "output_type": "display_data"
    },
    {
     "data": {
      "text/plain": "<IPython.core.display.HTML object>",
      "text/html": "Run data is saved locally in <code>/home/jorge/fun/mip-NeRF2D/notebooks/wandb/run-20231127_235705-844e96tt</code>"
     },
     "metadata": {},
     "output_type": "display_data"
    },
    {
     "data": {
      "text/plain": "<IPython.core.display.HTML object>",
      "text/html": "Syncing run <strong><a href='https://wandb.ai/romeu/mip-NeRF2D/runs/844e96tt' target=\"_blank\">divine-sweep-29</a></strong> to <a href='https://wandb.ai/romeu/mip-NeRF2D' target=\"_blank\">Weights & Biases</a> (<a href='https://wandb.me/run' target=\"_blank\">docs</a>)<br/>Sweep page: <a href='https://wandb.ai/romeu/mip-NeRF2D/sweeps/684ri139' target=\"_blank\">https://wandb.ai/romeu/mip-NeRF2D/sweeps/684ri139</a>"
     },
     "metadata": {},
     "output_type": "display_data"
    },
    {
     "data": {
      "text/plain": "<IPython.core.display.HTML object>",
      "text/html": " View project at <a href='https://wandb.ai/romeu/mip-NeRF2D' target=\"_blank\">https://wandb.ai/romeu/mip-NeRF2D</a>"
     },
     "metadata": {},
     "output_type": "display_data"
    },
    {
     "data": {
      "text/plain": "<IPython.core.display.HTML object>",
      "text/html": " View sweep at <a href='https://wandb.ai/romeu/mip-NeRF2D/sweeps/684ri139' target=\"_blank\">https://wandb.ai/romeu/mip-NeRF2D/sweeps/684ri139</a>"
     },
     "metadata": {},
     "output_type": "display_data"
    },
    {
     "data": {
      "text/plain": "<IPython.core.display.HTML object>",
      "text/html": " View run at <a href='https://wandb.ai/romeu/mip-NeRF2D/runs/844e96tt' target=\"_blank\">https://wandb.ai/romeu/mip-NeRF2D/runs/844e96tt</a>"
     },
     "metadata": {},
     "output_type": "display_data"
    },
    {
     "name": "stderr",
     "output_type": "stream",
     "text": [
      "\u001B[34m\u001B[1mwandb\u001B[0m:   3 of 3 files downloaded.  \n",
      "\u001B[34m\u001B[1mwandb\u001B[0m:   1 of 1 files downloaded.  \n",
      "epochs: 100%|██████████| 20/20 [00:14<00:00,  1.36it/s]\n"
     ]
    },
    {
     "data": {
      "text/plain": "VBox(children=(Label(value='10.033 MB of 10.033 MB uploaded\\r'), FloatProgress(value=1.0, max=1.0)))",
      "application/vnd.jupyter.widget-view+json": {
       "version_major": 2,
       "version_minor": 0,
       "model_id": "be714f28c6fa41e8adf0547d37706686"
      }
     },
     "metadata": {},
     "output_type": "display_data"
    },
    {
     "data": {
      "text/plain": "<IPython.core.display.HTML object>",
      "text/html": "<style>\n    table.wandb td:nth-child(1) { padding: 0 10px; text-align: left ; width: auto;} td:nth-child(2) {text-align: left ; width: 100%}\n    .wandb-row { display: flex; flex-direction: row; flex-wrap: wrap; justify-content: flex-start; width: 100% }\n    .wandb-col { display: flex; flex-direction: column; flex-basis: 100%; flex: 1; padding: 10px; }\n    </style>\n<div class=\"wandb-row\"><div class=\"wandb-col\"><h3>Run history:</h3><br/><table class=\"wandb\"><tr><td>epoch</td><td>▁▁▂▂▂▃▃▄▄▄▅▅▅▆▆▇▇▇██</td></tr><tr><td>loss</td><td>██▆▅▅▄▄▄▃▃▃▃▂▂▂▂▂▂▂▂▂▂▂▂▂▂▂▁▁▁▁▂▁▂▂▂▁▁▁▁</td></tr><tr><td>render_mse</td><td>█▆▅▄▃▃▂▂▂▂▂▁▁▁▂▂▂▁▁▁</td></tr><tr><td>val_loss</td><td>█▆▅▄▃▃▂▂▂▂▂▂▁▁▂▂▂▁▁▁</td></tr></table><br/></div><div class=\"wandb-col\"><h3>Run summary:</h3><br/><table class=\"wandb\"><tr><td>epoch</td><td>19</td></tr><tr><td>render_mse</td><td>0.01841</td></tr></table><br/></div></div>"
     },
     "metadata": {},
     "output_type": "display_data"
    },
    {
     "data": {
      "text/plain": "<IPython.core.display.HTML object>",
      "text/html": " View run <strong style=\"color:#cdcd00\">divine-sweep-29</strong> at: <a href='https://wandb.ai/romeu/mip-NeRF2D/runs/844e96tt' target=\"_blank\">https://wandb.ai/romeu/mip-NeRF2D/runs/844e96tt</a><br/>Synced 5 W&B file(s), 20 media file(s), 0 artifact file(s) and 0 other file(s)"
     },
     "metadata": {},
     "output_type": "display_data"
    },
    {
     "data": {
      "text/plain": "<IPython.core.display.HTML object>",
      "text/html": "Find logs at: <code>./wandb/run-20231127_235705-844e96tt/logs</code>"
     },
     "metadata": {},
     "output_type": "display_data"
    },
    {
     "name": "stderr",
     "output_type": "stream",
     "text": [
      "\u001B[34m\u001B[1mwandb\u001B[0m: Agent Starting Run: yobvdhls with config:\n",
      "\u001B[34m\u001B[1mwandb\u001B[0m: \tbatch_size: 1392\n",
      "\u001B[34m\u001B[1mwandb\u001B[0m: \tlearning_rate: 0.005683684249456589\n",
      "\u001B[34m\u001B[1mwandb\u001B[0m: \tn_freqs: 8\n"
     ]
    },
    {
     "data": {
      "text/plain": "<IPython.core.display.HTML object>",
      "text/html": "Tracking run with wandb version 0.16.0"
     },
     "metadata": {},
     "output_type": "display_data"
    },
    {
     "data": {
      "text/plain": "<IPython.core.display.HTML object>",
      "text/html": "Run data is saved locally in <code>/home/jorge/fun/mip-NeRF2D/notebooks/wandb/run-20231127_235737-yobvdhls</code>"
     },
     "metadata": {},
     "output_type": "display_data"
    },
    {
     "data": {
      "text/plain": "<IPython.core.display.HTML object>",
      "text/html": "Syncing run <strong><a href='https://wandb.ai/romeu/mip-NeRF2D/runs/yobvdhls' target=\"_blank\">silvery-sweep-30</a></strong> to <a href='https://wandb.ai/romeu/mip-NeRF2D' target=\"_blank\">Weights & Biases</a> (<a href='https://wandb.me/run' target=\"_blank\">docs</a>)<br/>Sweep page: <a href='https://wandb.ai/romeu/mip-NeRF2D/sweeps/684ri139' target=\"_blank\">https://wandb.ai/romeu/mip-NeRF2D/sweeps/684ri139</a>"
     },
     "metadata": {},
     "output_type": "display_data"
    },
    {
     "data": {
      "text/plain": "<IPython.core.display.HTML object>",
      "text/html": " View project at <a href='https://wandb.ai/romeu/mip-NeRF2D' target=\"_blank\">https://wandb.ai/romeu/mip-NeRF2D</a>"
     },
     "metadata": {},
     "output_type": "display_data"
    },
    {
     "data": {
      "text/plain": "<IPython.core.display.HTML object>",
      "text/html": " View sweep at <a href='https://wandb.ai/romeu/mip-NeRF2D/sweeps/684ri139' target=\"_blank\">https://wandb.ai/romeu/mip-NeRF2D/sweeps/684ri139</a>"
     },
     "metadata": {},
     "output_type": "display_data"
    },
    {
     "data": {
      "text/plain": "<IPython.core.display.HTML object>",
      "text/html": " View run at <a href='https://wandb.ai/romeu/mip-NeRF2D/runs/yobvdhls' target=\"_blank\">https://wandb.ai/romeu/mip-NeRF2D/runs/yobvdhls</a>"
     },
     "metadata": {},
     "output_type": "display_data"
    },
    {
     "name": "stderr",
     "output_type": "stream",
     "text": [
      "\u001B[34m\u001B[1mwandb\u001B[0m:   3 of 3 files downloaded.  \n",
      "\u001B[34m\u001B[1mwandb\u001B[0m:   1 of 1 files downloaded.  \n",
      "epochs: 100%|██████████| 20/20 [00:14<00:00,  1.40it/s]\n"
     ]
    },
    {
     "data": {
      "text/plain": "VBox(children=(Label(value='4.875 MB of 4.875 MB uploaded\\r'), FloatProgress(value=1.0, max=1.0)))",
      "application/vnd.jupyter.widget-view+json": {
       "version_major": 2,
       "version_minor": 0,
       "model_id": "9ec8826d61de42a1b633db6f935dcc33"
      }
     },
     "metadata": {},
     "output_type": "display_data"
    },
    {
     "data": {
      "text/plain": "<IPython.core.display.HTML object>",
      "text/html": "<style>\n    table.wandb td:nth-child(1) { padding: 0 10px; text-align: left ; width: auto;} td:nth-child(2) {text-align: left ; width: 100%}\n    .wandb-row { display: flex; flex-direction: row; flex-wrap: wrap; justify-content: flex-start; width: 100% }\n    .wandb-col { display: flex; flex-direction: column; flex-basis: 100%; flex: 1; padding: 10px; }\n    </style>\n<div class=\"wandb-row\"><div class=\"wandb-col\"><h3>Run history:</h3><br/><table class=\"wandb\"><tr><td>epoch</td><td>▁▁▂▂▂▃▃▄▄▄▅▅▅▆▆▇▇▇██</td></tr><tr><td>loss</td><td>█▆▄▃▃▂▂▂▂▂▂▂▂▂▁▁▁▂▁▁▁▁▁▁▁▁▁▁▁▁▁▁▁▁▁▁▁▁▁▁</td></tr><tr><td>render_mse</td><td>█▄▃▂▂▂▂▁▁▁▁▁▁▁▁▁▁▁▁▁</td></tr><tr><td>val_loss</td><td>█▄▃▂▂▂▂▁▁▁▁▁▁▁▁▁▁▁▁▁</td></tr></table><br/></div><div class=\"wandb-col\"><h3>Run summary:</h3><br/><table class=\"wandb\"><tr><td>epoch</td><td>19</td></tr><tr><td>render_mse</td><td>0.0075</td></tr></table><br/></div></div>"
     },
     "metadata": {},
     "output_type": "display_data"
    },
    {
     "data": {
      "text/plain": "<IPython.core.display.HTML object>",
      "text/html": " View run <strong style=\"color:#cdcd00\">silvery-sweep-30</strong> at: <a href='https://wandb.ai/romeu/mip-NeRF2D/runs/yobvdhls' target=\"_blank\">https://wandb.ai/romeu/mip-NeRF2D/runs/yobvdhls</a><br/>Synced 5 W&B file(s), 20 media file(s), 0 artifact file(s) and 0 other file(s)"
     },
     "metadata": {},
     "output_type": "display_data"
    },
    {
     "data": {
      "text/plain": "<IPython.core.display.HTML object>",
      "text/html": "Find logs at: <code>./wandb/run-20231127_235737-yobvdhls/logs</code>"
     },
     "metadata": {},
     "output_type": "display_data"
    },
    {
     "name": "stderr",
     "output_type": "stream",
     "text": [
      "\u001B[34m\u001B[1mwandb\u001B[0m: Agent Starting Run: xvqeyjfr with config:\n",
      "\u001B[34m\u001B[1mwandb\u001B[0m: \tbatch_size: 3184\n",
      "\u001B[34m\u001B[1mwandb\u001B[0m: \tlearning_rate: 0.003753675804260005\n",
      "\u001B[34m\u001B[1mwandb\u001B[0m: \tn_freqs: 19\n"
     ]
    },
    {
     "data": {
      "text/plain": "<IPython.core.display.HTML object>",
      "text/html": "Tracking run with wandb version 0.16.0"
     },
     "metadata": {},
     "output_type": "display_data"
    },
    {
     "data": {
      "text/plain": "<IPython.core.display.HTML object>",
      "text/html": "Run data is saved locally in <code>/home/jorge/fun/mip-NeRF2D/notebooks/wandb/run-20231127_235808-xvqeyjfr</code>"
     },
     "metadata": {},
     "output_type": "display_data"
    },
    {
     "data": {
      "text/plain": "<IPython.core.display.HTML object>",
      "text/html": "Syncing run <strong><a href='https://wandb.ai/romeu/mip-NeRF2D/runs/xvqeyjfr' target=\"_blank\">wobbly-sweep-31</a></strong> to <a href='https://wandb.ai/romeu/mip-NeRF2D' target=\"_blank\">Weights & Biases</a> (<a href='https://wandb.me/run' target=\"_blank\">docs</a>)<br/>Sweep page: <a href='https://wandb.ai/romeu/mip-NeRF2D/sweeps/684ri139' target=\"_blank\">https://wandb.ai/romeu/mip-NeRF2D/sweeps/684ri139</a>"
     },
     "metadata": {},
     "output_type": "display_data"
    },
    {
     "data": {
      "text/plain": "<IPython.core.display.HTML object>",
      "text/html": " View project at <a href='https://wandb.ai/romeu/mip-NeRF2D' target=\"_blank\">https://wandb.ai/romeu/mip-NeRF2D</a>"
     },
     "metadata": {},
     "output_type": "display_data"
    },
    {
     "data": {
      "text/plain": "<IPython.core.display.HTML object>",
      "text/html": " View sweep at <a href='https://wandb.ai/romeu/mip-NeRF2D/sweeps/684ri139' target=\"_blank\">https://wandb.ai/romeu/mip-NeRF2D/sweeps/684ri139</a>"
     },
     "metadata": {},
     "output_type": "display_data"
    },
    {
     "data": {
      "text/plain": "<IPython.core.display.HTML object>",
      "text/html": " View run at <a href='https://wandb.ai/romeu/mip-NeRF2D/runs/xvqeyjfr' target=\"_blank\">https://wandb.ai/romeu/mip-NeRF2D/runs/xvqeyjfr</a>"
     },
     "metadata": {},
     "output_type": "display_data"
    },
    {
     "name": "stderr",
     "output_type": "stream",
     "text": [
      "\u001B[34m\u001B[1mwandb\u001B[0m:   3 of 3 files downloaded.  \n",
      "\u001B[34m\u001B[1mwandb\u001B[0m:   1 of 1 files downloaded.  \n",
      "epochs: 100%|██████████| 20/20 [00:15<00:00,  1.26it/s]\n"
     ]
    },
    {
     "data": {
      "text/plain": "VBox(children=(Label(value='9.274 MB of 9.274 MB uploaded\\r'), FloatProgress(value=1.0, max=1.0)))",
      "application/vnd.jupyter.widget-view+json": {
       "version_major": 2,
       "version_minor": 0,
       "model_id": "55736269a7df403b9d1993a8ba8866c9"
      }
     },
     "metadata": {},
     "output_type": "display_data"
    },
    {
     "data": {
      "text/plain": "<IPython.core.display.HTML object>",
      "text/html": "<style>\n    table.wandb td:nth-child(1) { padding: 0 10px; text-align: left ; width: auto;} td:nth-child(2) {text-align: left ; width: 100%}\n    .wandb-row { display: flex; flex-direction: row; flex-wrap: wrap; justify-content: flex-start; width: 100% }\n    .wandb-col { display: flex; flex-direction: column; flex-basis: 100%; flex: 1; padding: 10px; }\n    </style>\n<div class=\"wandb-row\"><div class=\"wandb-col\"><h3>Run history:</h3><br/><table class=\"wandb\"><tr><td>epoch</td><td>▁▁▂▂▂▃▃▄▄▄▅▅▅▆▆▇▇▇██</td></tr><tr><td>loss</td><td>██▆▆▅▅▄▄▃▃▃▃▃▂▂▂▂▂▂▂▂▂▂▁▁▁▁▁▁▁▁▁▁▁▁▁▁▁▁▁</td></tr><tr><td>render_mse</td><td>█▆▅▄▃▃▂▂▂▂▁▁▁▁▁▁▁▁▁▁</td></tr><tr><td>val_loss</td><td>█▆▅▄▃▃▂▂▂▂▁▁▂▁▁▁▁▁▁▁</td></tr></table><br/></div><div class=\"wandb-col\"><h3>Run summary:</h3><br/><table class=\"wandb\"><tr><td>epoch</td><td>19</td></tr><tr><td>render_mse</td><td>0.01489</td></tr></table><br/></div></div>"
     },
     "metadata": {},
     "output_type": "display_data"
    },
    {
     "data": {
      "text/plain": "<IPython.core.display.HTML object>",
      "text/html": " View run <strong style=\"color:#cdcd00\">wobbly-sweep-31</strong> at: <a href='https://wandb.ai/romeu/mip-NeRF2D/runs/xvqeyjfr' target=\"_blank\">https://wandb.ai/romeu/mip-NeRF2D/runs/xvqeyjfr</a><br/>Synced 5 W&B file(s), 20 media file(s), 0 artifact file(s) and 0 other file(s)"
     },
     "metadata": {},
     "output_type": "display_data"
    },
    {
     "data": {
      "text/plain": "<IPython.core.display.HTML object>",
      "text/html": "Find logs at: <code>./wandb/run-20231127_235808-xvqeyjfr/logs</code>"
     },
     "metadata": {},
     "output_type": "display_data"
    },
    {
     "name": "stderr",
     "output_type": "stream",
     "text": [
      "\u001B[34m\u001B[1mwandb\u001B[0m: Agent Starting Run: ri0ugfl1 with config:\n",
      "\u001B[34m\u001B[1mwandb\u001B[0m: \tbatch_size: 2272\n",
      "\u001B[34m\u001B[1mwandb\u001B[0m: \tlearning_rate: 0.007725673541693812\n",
      "\u001B[34m\u001B[1mwandb\u001B[0m: \tn_freqs: 10\n"
     ]
    },
    {
     "data": {
      "text/plain": "<IPython.core.display.HTML object>",
      "text/html": "Tracking run with wandb version 0.16.0"
     },
     "metadata": {},
     "output_type": "display_data"
    },
    {
     "data": {
      "text/plain": "<IPython.core.display.HTML object>",
      "text/html": "Run data is saved locally in <code>/home/jorge/fun/mip-NeRF2D/notebooks/wandb/run-20231127_235844-ri0ugfl1</code>"
     },
     "metadata": {},
     "output_type": "display_data"
    },
    {
     "data": {
      "text/plain": "<IPython.core.display.HTML object>",
      "text/html": "Syncing run <strong><a href='https://wandb.ai/romeu/mip-NeRF2D/runs/ri0ugfl1' target=\"_blank\">happy-sweep-32</a></strong> to <a href='https://wandb.ai/romeu/mip-NeRF2D' target=\"_blank\">Weights & Biases</a> (<a href='https://wandb.me/run' target=\"_blank\">docs</a>)<br/>Sweep page: <a href='https://wandb.ai/romeu/mip-NeRF2D/sweeps/684ri139' target=\"_blank\">https://wandb.ai/romeu/mip-NeRF2D/sweeps/684ri139</a>"
     },
     "metadata": {},
     "output_type": "display_data"
    },
    {
     "data": {
      "text/plain": "<IPython.core.display.HTML object>",
      "text/html": " View project at <a href='https://wandb.ai/romeu/mip-NeRF2D' target=\"_blank\">https://wandb.ai/romeu/mip-NeRF2D</a>"
     },
     "metadata": {},
     "output_type": "display_data"
    },
    {
     "data": {
      "text/plain": "<IPython.core.display.HTML object>",
      "text/html": " View sweep at <a href='https://wandb.ai/romeu/mip-NeRF2D/sweeps/684ri139' target=\"_blank\">https://wandb.ai/romeu/mip-NeRF2D/sweeps/684ri139</a>"
     },
     "metadata": {},
     "output_type": "display_data"
    },
    {
     "data": {
      "text/plain": "<IPython.core.display.HTML object>",
      "text/html": " View run at <a href='https://wandb.ai/romeu/mip-NeRF2D/runs/ri0ugfl1' target=\"_blank\">https://wandb.ai/romeu/mip-NeRF2D/runs/ri0ugfl1</a>"
     },
     "metadata": {},
     "output_type": "display_data"
    },
    {
     "name": "stderr",
     "output_type": "stream",
     "text": [
      "\u001B[34m\u001B[1mwandb\u001B[0m:   3 of 3 files downloaded.  \n",
      "\u001B[34m\u001B[1mwandb\u001B[0m:   1 of 1 files downloaded.  \n",
      "epochs:  50%|█████     | 10/20 [00:09<00:09,  1.05it/s]"
     ]
    }
   ],
   "source": [
    "wandb.agent(sweep_id, train, count=30)"
   ],
   "metadata": {
    "collapsed": false,
    "is_executing": true,
    "ExecuteTime": {
     "start_time": "2023-11-27T22:46:37.960021459Z"
    }
   },
   "id": "a3aa6048d437562"
  }
 ],
 "metadata": {
  "kernelspec": {
   "display_name": "Python 3",
   "language": "python",
   "name": "python3"
  },
  "language_info": {
   "codemirror_mode": {
    "name": "ipython",
    "version": 2
   },
   "file_extension": ".py",
   "mimetype": "text/x-python",
   "name": "python",
   "nbconvert_exporter": "python",
   "pygments_lexer": "ipython2",
   "version": "2.7.6"
  }
 },
 "nbformat": 4,
 "nbformat_minor": 5
}
